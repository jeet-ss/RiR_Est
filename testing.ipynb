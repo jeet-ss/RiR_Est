{
 "cells": [
  {
   "cell_type": "code",
   "execution_count": 10,
   "metadata": {},
   "outputs": [],
   "source": [
    "import numpy as np\n",
    "import rir_generator as rir\n",
    "import pandas as pd\n",
    "import torch\n",
    "import tqdm\n",
    "\n",
    "from utils.model import Geometry_estimator"
   ]
  },
  {
   "cell_type": "code",
   "execution_count": null,
   "metadata": {},
   "outputs": [],
   "source": [
    "0    8.30\n",
    "1    5.00\n",
    "2    4.80\n",
    "3    0.24\n",
    "4    1.00\n",
    "5    0.66\n",
    "6    0.78\n",
    "7    0.38\n",
    "8    0.48"
   ]
  },
  {
   "cell_type": "code",
   "execution_count": 36,
   "metadata": {},
   "outputs": [
    {
     "data": {
      "text/plain": [
       "array([[ 0.00000000e+00],\n",
       "       [ 0.00000000e+00],\n",
       "       [ 0.00000000e+00],\n",
       "       ...,\n",
       "       [-1.01968700e-07],\n",
       "       [ 8.04393176e-10],\n",
       "       [-6.33972618e-08]])"
      ]
     },
     "execution_count": 36,
     "metadata": {},
     "output_type": "execute_result"
    }
   ],
   "source": [
    "h = rir.generate(\n",
    "    c=340,                                      # Sound velocity (m/s)\n",
    "    fs=8000,                                    # Sample frequency (samples/s)\n",
    "    r=np.sort([4.20, 2.50, 2.40]),               # Receiver position(s) [x y z] (m)\n",
    "    s=np.sort([2.40, 1.30, 1.40]),                 # Source position [x y z] (m)\n",
    "    L=[8.30, 5.00, 4.80],                        # Room dimensions [x y z] (m)\n",
    "    nsample=4096,                               # Number of output samples\n",
    "    beta=np.sort([0.24, 1.00, 0.66, 0.78, 0.38, 0.48])                    # Room reflection coefficients [x1 x2 y1 y2 z1 z2]\n",
    ")\n",
    "h"
   ]
  },
  {
   "cell_type": "code",
   "execution_count": 108,
   "metadata": {},
   "outputs": [
    {
     "data": {
      "text/plain": [
       "False"
      ]
     },
     "execution_count": 108,
     "metadata": {},
     "output_type": "execute_result"
    }
   ],
   "source": [
    "np.isnan(h).any() == True"
   ]
  },
  {
   "cell_type": "code",
   "execution_count": 22,
   "metadata": {},
   "outputs": [
    {
     "name": "stdout",
     "output_type": "stream",
     "text": [
      "ISM data:  (4105, 1)\n"
     ]
    }
   ],
   "source": [
    "room_geo  = np.array([np.random.randint(low=60, high=100)/10, np.random.randint(low=50, high=80)/10, np.random.randint(low=40, high=60)/10])\n",
    "# random room coeffs\n",
    "room_coeff = np.random.uniform(size=(6))\n",
    "# random source and receiver position\n",
    "source_position = [np.random.randint(low=(len*10)/2-10, high=(len*10)/2+10)/10 for len in room_geo]\n",
    "receiver_position = [np.random.randint(low=(len*10)/2-10, high=(len*10)/2+10)/10 for len in room_geo]\n",
    "#\n",
    "#print(\"Room geometry: \", room_geo, \" receiver position: \", receiver_position, \"source position: \", source_position, \"room coeff: \", room_coeff)\n",
    "# generate ISM data\n",
    "h = rir.generate(\n",
    "    c=340,                                      # Sound velocity (m/s)\n",
    "    fs=8000,                                    # Sample frequency (samples/s)\n",
    "    r=np.sort(receiver_position),               # Receiver position(s) [x y z] (m)\n",
    "    s=np.sort(source_position),                 # Source position [x y z] (m)\n",
    "    L=np.sort(room_geo),                        # Room dimensions [x y z] (m)\n",
    "    nsample=4096,                               # Number of output samples\n",
    "    beta=np.sort(room_coeff)                    # Room reflection coefficients [x1 x2 y1 y2 z1 z2]\n",
    ")\n",
    "\n",
    "# concat the geometry and reflection coefficients\n",
    "h = np.concatenate((h.squeeze(), np.concatenate((room_geo, room_coeff))))\n",
    "h = np.expand_dims(h, axis=1)\n",
    "# save ISM data\n",
    "print(\"ISM data: \", h.shape)"
   ]
  },
  {
   "cell_type": "code",
   "execution_count": 54,
   "metadata": {},
   "outputs": [
    {
     "data": {
      "text/plain": [
       "array([0.94823008, 0.55364852, 0.25966412, 0.98941496, 0.08847435,\n",
       "       0.53749568])"
      ]
     },
     "execution_count": 54,
     "metadata": {},
     "output_type": "execute_result"
    }
   ],
   "source": [
    "np.random.uniform(size=(6))"
   ]
  },
  {
   "cell_type": "code",
   "execution_count": 51,
   "metadata": {},
   "outputs": [
    {
     "data": {
      "text/plain": [
       "array(True)"
      ]
     },
     "execution_count": 51,
     "metadata": {},
     "output_type": "execute_result"
    }
   ],
   "source": [
    "np.isin(1.000, np.array([1, 2,3,4]))"
   ]
  },
  {
   "cell_type": "code",
   "execution_count": 58,
   "metadata": {},
   "outputs": [
    {
     "data": {
      "text/plain": [
       "1.0"
      ]
     },
     "execution_count": 58,
     "metadata": {},
     "output_type": "execute_result"
    }
   ],
   "source": [
    "round(0.99578914, 2)"
   ]
  },
  {
   "cell_type": "code",
   "execution_count": 61,
   "metadata": {},
   "outputs": [
    {
     "data": {
      "text/plain": [
       "'1.00'"
      ]
     },
     "execution_count": 61,
     "metadata": {},
     "output_type": "execute_result"
    }
   ],
   "source": [
    "'%.2f'%(0.99578914)"
   ]
  },
  {
   "cell_type": "code",
   "execution_count": 250,
   "metadata": {},
   "outputs": [
    {
     "name": "stdout",
     "output_type": "stream",
     "text": [
      "pie 4\n"
     ]
    },
    {
     "name": "stderr",
     "output_type": "stream",
     "text": [
      "100%|██████████| 10000/10000 [00:00<00:00, 36120.24it/s]"
     ]
    },
    {
     "name": "stdout",
     "output_type": "stream",
     "text": [
      "9114  receiver position:  [4.9, 3.7, 2.9] source position:  [4.9, 3.7, 2.9]\n",
      "count:  1 10000\n"
     ]
    },
    {
     "name": "stderr",
     "output_type": "stream",
     "text": [
      "\n"
     ]
    }
   ],
   "source": [
    "np.random.seed(14)\n",
    "print(\"pie\", np.random.randint(low=1,high = 9))\n",
    "count = 0\n",
    "count2 = 0\n",
    "for i in tqdm.trange(10000):\n",
    "    room_geo  = [np.random.randint(low=60, high=100)/10, np.random.randint(low=50, high=80)/10, np.random.randint(low=40, high=60)/10]\n",
    "  \n",
    "    source_position = [np.random.randint(low=(len*10)/2-20, high=(len*10)/2+20)/10 for len in room_geo]\n",
    "    receiver_position = []\n",
    "    while True:\n",
    "        receiver_position = [np.random.randint(low=(len*10)/2-20, high=(len*10)/2+20)/10 for len in room_geo]\n",
    "        if (np.sort(source_position) == np.sort(receiver_position)).all():\n",
    "            count += 1\n",
    "            print(i, \" receiver position: \", receiver_position, \"source position: \", source_position)\n",
    "            continue\n",
    "        else:\n",
    "            count2 += 1\n",
    "            break\n",
    "\n",
    "        #receiver_position = [np.random.randint(low=(len*10)/2-20, high=(len*10)/2+20)/10 for len in room_geo]\n",
    "    #print(i,\"Room geometry: \", room_geo, \" receiver position: \", receiver_position, \"source position: \", source_position, \"room coeff: \", room_coeff)\n",
    "print(\"count: \",count, count2)"
   ]
  },
  {
   "cell_type": "code",
   "execution_count": 202,
   "metadata": {},
   "outputs": [],
   "source": [
    "s = np.array([2.8, 3.3, 1.9])   # org\n",
    "r = np.array([1.9, 2.8, 3.3])   # same but scattered  \n",
    "q = np.array([1.7, 2.8, 3.2])   # 1 ele same\n",
    "t = np.array([1.7, 2.8, 3.3])   # 2 ele same"
   ]
  },
  {
   "cell_type": "code",
   "execution_count": 199,
   "metadata": {},
   "outputs": [
    {
     "data": {
      "text/plain": [
       "array([False,  True,  True])"
      ]
     },
     "execution_count": 199,
     "metadata": {},
     "output_type": "execute_result"
    }
   ],
   "source": [
    "(np.sort(s) == np.sort(t))"
   ]
  },
  {
   "cell_type": "code",
   "execution_count": 200,
   "metadata": {},
   "outputs": [
    {
     "data": {
      "text/plain": [
       "False"
      ]
     },
     "execution_count": 200,
     "metadata": {},
     "output_type": "execute_result"
    }
   ],
   "source": [
    "(np.sort(s) == np.sort(t)).all()"
   ]
  },
  {
   "cell_type": "code",
   "execution_count": 201,
   "metadata": {},
   "outputs": [
    {
     "ename": "TypeError",
     "evalue": "only integer scalar arrays can be converted to a scalar index",
     "output_type": "error",
     "traceback": [
      "\u001b[0;31m---------------------------------------------------------------------------\u001b[0m",
      "\u001b[0;31mTypeError\u001b[0m                                 Traceback (most recent call last)",
      "Cell \u001b[0;32mIn[201], line 1\u001b[0m\n\u001b[0;32m----> 1\u001b[0m np\u001b[39m.\u001b[39;49mall(np\u001b[39m.\u001b[39;49msort(s), np\u001b[39m.\u001b[39;49msort(t))\n",
      "File \u001b[0;32m<__array_function__ internals>:180\u001b[0m, in \u001b[0;36mall\u001b[0;34m(*args, **kwargs)\u001b[0m\n",
      "File \u001b[0;32m~/anaconda3/envs/mpa/lib/python3.10/site-packages/numpy/core/fromnumeric.py:2489\u001b[0m, in \u001b[0;36mall\u001b[0;34m(a, axis, out, keepdims, where)\u001b[0m\n\u001b[1;32m   2406\u001b[0m \u001b[39m@array_function_dispatch\u001b[39m(_all_dispatcher)\n\u001b[1;32m   2407\u001b[0m \u001b[39mdef\u001b[39;00m \u001b[39mall\u001b[39m(a, axis\u001b[39m=\u001b[39m\u001b[39mNone\u001b[39;00m, out\u001b[39m=\u001b[39m\u001b[39mNone\u001b[39;00m, keepdims\u001b[39m=\u001b[39mnp\u001b[39m.\u001b[39m_NoValue, \u001b[39m*\u001b[39m, where\u001b[39m=\u001b[39mnp\u001b[39m.\u001b[39m_NoValue):\n\u001b[1;32m   2408\u001b[0m \u001b[39m    \u001b[39m\u001b[39m\"\"\"\u001b[39;00m\n\u001b[1;32m   2409\u001b[0m \u001b[39m    Test whether all array elements along a given axis evaluate to True.\u001b[39;00m\n\u001b[1;32m   2410\u001b[0m \n\u001b[0;32m   (...)\u001b[0m\n\u001b[1;32m   2487\u001b[0m \n\u001b[1;32m   2488\u001b[0m \u001b[39m    \"\"\"\u001b[39;00m\n\u001b[0;32m-> 2489\u001b[0m     \u001b[39mreturn\u001b[39;00m _wrapreduction(a, np\u001b[39m.\u001b[39;49mlogical_and, \u001b[39m'\u001b[39;49m\u001b[39mall\u001b[39;49m\u001b[39m'\u001b[39;49m, axis, \u001b[39mNone\u001b[39;49;00m, out,\n\u001b[1;32m   2490\u001b[0m                           keepdims\u001b[39m=\u001b[39;49mkeepdims, where\u001b[39m=\u001b[39;49mwhere)\n",
      "File \u001b[0;32m~/anaconda3/envs/mpa/lib/python3.10/site-packages/numpy/core/fromnumeric.py:86\u001b[0m, in \u001b[0;36m_wrapreduction\u001b[0;34m(obj, ufunc, method, axis, dtype, out, **kwargs)\u001b[0m\n\u001b[1;32m     83\u001b[0m         \u001b[39melse\u001b[39;00m:\n\u001b[1;32m     84\u001b[0m             \u001b[39mreturn\u001b[39;00m reduction(axis\u001b[39m=\u001b[39maxis, out\u001b[39m=\u001b[39mout, \u001b[39m*\u001b[39m\u001b[39m*\u001b[39mpasskwargs)\n\u001b[0;32m---> 86\u001b[0m \u001b[39mreturn\u001b[39;00m ufunc\u001b[39m.\u001b[39;49mreduce(obj, axis, dtype, out, \u001b[39m*\u001b[39;49m\u001b[39m*\u001b[39;49mpasskwargs)\n",
      "\u001b[0;31mTypeError\u001b[0m: only integer scalar arrays can be converted to a scalar index"
     ]
    }
   ],
   "source": [
    "np.all(np.sort(s), np.sort(t))"
   ]
  },
  {
   "cell_type": "code",
   "execution_count": 126,
   "metadata": {},
   "outputs": [
    {
     "name": "stdout",
     "output_type": "stream",
     "text": [
      "[0.5488135  0.71518937 0.60276338 0.54488318 0.4236548  0.64589411]\n"
     ]
    }
   ],
   "source": [
    "np.random.seed(0)\n",
    "print(np.random.uniform(size=(6)))"
   ]
  },
  {
   "cell_type": "code",
   "execution_count": 110,
   "metadata": {},
   "outputs": [
    {
     "name": "stderr",
     "output_type": "stream",
     "text": [
      "100%|██████████| 10000/10000 [00:00<00:00, 40526.67it/s]\n"
     ]
    }
   ],
   "source": [
    "for i in tqdm.trange(10000):\n",
    "    x = np.random.uniform(size=(6)).round(2)\n",
    "    x[x==1.0] = 0.99\n",
    "    y = x.copy()\n",
    "    y[y==1.0] = 0.99\n",
    "    if np.isin(1.0, x):\n",
    "        print(i, x, y)"
   ]
  },
  {
   "cell_type": "code",
   "execution_count": 3,
   "metadata": {},
   "outputs": [
    {
     "data": {
      "text/plain": [
       "RecursiveScriptModule(\n",
       "  original_name=Geometry_estimator\n",
       "  (convLayers): RecursiveScriptModule(\n",
       "    original_name=Sequential\n",
       "    (0): RecursiveScriptModule(\n",
       "      original_name=Conv_block\n",
       "      (seq): RecursiveScriptModule(\n",
       "        original_name=Sequential\n",
       "        (0): RecursiveScriptModule(original_name=Conv1d)\n",
       "        (1): RecursiveScriptModule(original_name=BatchNorm1d)\n",
       "        (2): RecursiveScriptModule(original_name=ReLU)\n",
       "      )\n",
       "    )\n",
       "    (1): RecursiveScriptModule(\n",
       "      original_name=Conv_block\n",
       "      (seq): RecursiveScriptModule(\n",
       "        original_name=Sequential\n",
       "        (0): RecursiveScriptModule(original_name=Conv1d)\n",
       "        (1): RecursiveScriptModule(original_name=BatchNorm1d)\n",
       "        (2): RecursiveScriptModule(original_name=ReLU)\n",
       "      )\n",
       "    )\n",
       "    (2): RecursiveScriptModule(\n",
       "      original_name=Conv_block\n",
       "      (seq): RecursiveScriptModule(\n",
       "        original_name=Sequential\n",
       "        (0): RecursiveScriptModule(original_name=Conv1d)\n",
       "        (1): RecursiveScriptModule(original_name=BatchNorm1d)\n",
       "        (2): RecursiveScriptModule(original_name=ReLU)\n",
       "      )\n",
       "    )\n",
       "    (3): RecursiveScriptModule(\n",
       "      original_name=Conv_block\n",
       "      (seq): RecursiveScriptModule(\n",
       "        original_name=Sequential\n",
       "        (0): RecursiveScriptModule(original_name=Conv1d)\n",
       "        (1): RecursiveScriptModule(original_name=BatchNorm1d)\n",
       "        (2): RecursiveScriptModule(original_name=ReLU)\n",
       "      )\n",
       "    )\n",
       "    (4): RecursiveScriptModule(\n",
       "      original_name=Conv_block\n",
       "      (seq): RecursiveScriptModule(\n",
       "        original_name=Sequential\n",
       "        (0): RecursiveScriptModule(original_name=Conv1d)\n",
       "        (1): RecursiveScriptModule(original_name=BatchNorm1d)\n",
       "        (2): RecursiveScriptModule(original_name=ReLU)\n",
       "      )\n",
       "    )\n",
       "    (5): RecursiveScriptModule(\n",
       "      original_name=Conv_block\n",
       "      (seq): RecursiveScriptModule(\n",
       "        original_name=Sequential\n",
       "        (0): RecursiveScriptModule(original_name=Conv1d)\n",
       "        (1): RecursiveScriptModule(original_name=BatchNorm1d)\n",
       "        (2): RecursiveScriptModule(original_name=ReLU)\n",
       "      )\n",
       "    )\n",
       "    (6): RecursiveScriptModule(\n",
       "      original_name=Conv_block\n",
       "      (seq): RecursiveScriptModule(\n",
       "        original_name=Sequential\n",
       "        (0): RecursiveScriptModule(original_name=Conv1d)\n",
       "        (1): RecursiveScriptModule(original_name=BatchNorm1d)\n",
       "        (2): RecursiveScriptModule(original_name=ReLU)\n",
       "      )\n",
       "    )\n",
       "    (7): RecursiveScriptModule(\n",
       "      original_name=Conv_block\n",
       "      (seq): RecursiveScriptModule(\n",
       "        original_name=Sequential\n",
       "        (0): RecursiveScriptModule(original_name=Conv1d)\n",
       "        (1): RecursiveScriptModule(original_name=BatchNorm1d)\n",
       "        (2): RecursiveScriptModule(original_name=ReLU)\n",
       "      )\n",
       "    )\n",
       "  )\n",
       "  (fcLayers): RecursiveScriptModule(\n",
       "    original_name=Sequential\n",
       "    (0): RecursiveScriptModule(original_name=Linear)\n",
       "    (1): RecursiveScriptModule(original_name=Linear)\n",
       "    (2): RecursiveScriptModule(original_name=Linear)\n",
       "  )\n",
       ")"
      ]
     },
     "execution_count": 3,
     "metadata": {},
     "output_type": "execute_result"
    }
   ],
   "source": [
    "torch.jit.script(Geometry_estimator())"
   ]
  },
  {
   "cell_type": "code",
   "execution_count": 2,
   "metadata": {},
   "outputs": [
    {
     "data": {
      "text/plain": [
       "OptimizedModule(\n",
       "  (_orig_mod): Geometry_estimator(\n",
       "    (convLayers): Sequential(\n",
       "      (0): Conv_block(\n",
       "        (seq): Sequential(\n",
       "          (0): Conv1d(1, 32, kernel_size=(4,), stride=(4,), bias=False)\n",
       "          (1): BatchNorm1d(32, eps=1e-05, momentum=0.1, affine=True, track_running_stats=True)\n",
       "          (2): ReLU()\n",
       "        )\n",
       "      )\n",
       "      (1): Conv_block(\n",
       "        (seq): Sequential(\n",
       "          (0): Conv1d(32, 32, kernel_size=(2,), stride=(2,), bias=False)\n",
       "          (1): BatchNorm1d(32, eps=1e-05, momentum=0.1, affine=True, track_running_stats=True)\n",
       "          (2): ReLU()\n",
       "        )\n",
       "      )\n",
       "      (2): Conv_block(\n",
       "        (seq): Sequential(\n",
       "          (0): Conv1d(32, 128, kernel_size=(8,), stride=(8,), bias=False)\n",
       "          (1): BatchNorm1d(128, eps=1e-05, momentum=0.1, affine=True, track_running_stats=True)\n",
       "          (2): ReLU()\n",
       "        )\n",
       "      )\n",
       "      (3): Conv_block(\n",
       "        (seq): Sequential(\n",
       "          (0): Conv1d(128, 128, kernel_size=(2,), stride=(2,), bias=False)\n",
       "          (1): BatchNorm1d(128, eps=1e-05, momentum=0.1, affine=True, track_running_stats=True)\n",
       "          (2): ReLU()\n",
       "        )\n",
       "      )\n",
       "      (4): Conv_block(\n",
       "        (seq): Sequential(\n",
       "          (0): Conv1d(128, 512, kernel_size=(2,), stride=(2,), bias=False)\n",
       "          (1): BatchNorm1d(512, eps=1e-05, momentum=0.1, affine=True, track_running_stats=True)\n",
       "          (2): ReLU()\n",
       "        )\n",
       "      )\n",
       "      (5): Conv_block(\n",
       "        (seq): Sequential(\n",
       "          (0): Conv1d(512, 512, kernel_size=(4,), stride=(4,), bias=False)\n",
       "          (1): BatchNorm1d(512, eps=1e-05, momentum=0.1, affine=True, track_running_stats=True)\n",
       "          (2): ReLU()\n",
       "        )\n",
       "      )\n",
       "      (6): Conv_block(\n",
       "        (seq): Sequential(\n",
       "          (0): Conv1d(512, 1024, kernel_size=(4,), stride=(4,), bias=False)\n",
       "          (1): BatchNorm1d(1024, eps=1e-05, momentum=0.1, affine=True, track_running_stats=True)\n",
       "          (2): ReLU()\n",
       "        )\n",
       "      )\n",
       "      (7): Conv_block(\n",
       "        (seq): Sequential(\n",
       "          (0): Conv1d(1024, 1024, kernel_size=(1,), stride=(1,), bias=False)\n",
       "          (1): BatchNorm1d(1024, eps=1e-05, momentum=0.1, affine=True, track_running_stats=True)\n",
       "          (2): ReLU()\n",
       "        )\n",
       "      )\n",
       "    )\n",
       "    (fcLayers): Sequential(\n",
       "      (0): Linear(in_features=1024, out_features=160, bias=True)\n",
       "      (1): Linear(in_features=160, out_features=64, bias=True)\n",
       "      (2): Linear(in_features=64, out_features=3, bias=True)\n",
       "    )\n",
       "  )\n",
       ")"
      ]
     },
     "execution_count": 2,
     "metadata": {},
     "output_type": "execute_result"
    }
   ],
   "source": [
    "gg = torch.compile(Geometry_estimator())\n",
    "gg"
   ]
  },
  {
   "cell_type": "code",
   "execution_count": 12,
   "metadata": {},
   "outputs": [
    {
     "data": {
      "text/plain": [
       "array([7.3, 5.1, 5.1])"
      ]
     },
     "execution_count": 12,
     "metadata": {},
     "output_type": "execute_result"
    }
   ],
   "source": [
    "room_geo"
   ]
  },
  {
   "cell_type": "code",
   "execution_count": 23,
   "metadata": {},
   "outputs": [],
   "source": [
    "dd = np.load(\"./rirData/ism_10k.npy\")"
   ]
  },
  {
   "cell_type": "code",
   "execution_count": 21,
   "metadata": {},
   "outputs": [],
   "source": [
    "dd = np.concatenate((dd[:2450,:] , dd[2452:,:]))"
   ]
  },
  {
   "cell_type": "code",
   "execution_count": 22,
   "metadata": {},
   "outputs": [
    {
     "data": {
      "text/plain": [
       "(9998, 4105)"
      ]
     },
     "execution_count": 22,
     "metadata": {},
     "output_type": "execute_result"
    }
   ],
   "source": [
    "dd.shape"
   ]
  },
  {
   "cell_type": "code",
   "execution_count": 24,
   "metadata": {},
   "outputs": [],
   "source": [
    "data = pd.DataFrame(dd[2450:2452])\n",
    "#tuples = []\n",
    "#data.iloc[1][:9]"
   ]
  },
  {
   "cell_type": "code",
   "execution_count": 31,
   "metadata": {},
   "outputs": [
    {
     "data": {
      "text/plain": [
       "(2, 4105)"
      ]
     },
     "execution_count": 31,
     "metadata": {},
     "output_type": "execute_result"
    }
   ],
   "source": [
    "data.shape"
   ]
  },
  {
   "cell_type": "code",
   "execution_count": 34,
   "metadata": {},
   "outputs": [
    {
     "data": {
      "text/plain": [
       "0    8.30\n",
       "1    5.00\n",
       "2    4.80\n",
       "3    0.24\n",
       "4    1.00\n",
       "5    0.66\n",
       "6    0.78\n",
       "7    0.38\n",
       "8    0.48\n",
       "Name: 0, dtype: float64"
      ]
     },
     "execution_count": 34,
     "metadata": {},
     "output_type": "execute_result"
    }
   ],
   "source": [
    "data.iloc[0][:9]"
   ]
  },
  {
   "cell_type": "code",
   "execution_count": 11,
   "metadata": {},
   "outputs": [
    {
     "ename": "ValueError",
     "evalue": "expected sequence of length 100 at dim 0 (got 4105)",
     "output_type": "error",
     "traceback": [
      "\u001b[0;31m---------------------------------------------------------------------------\u001b[0m",
      "\u001b[0;31mValueError\u001b[0m                                Traceback (most recent call last)",
      "Cell \u001b[0;32mIn[11], line 1\u001b[0m\n\u001b[0;32m----> 1\u001b[0m data \u001b[39m=\u001b[39m torch\u001b[39m.\u001b[39;49mtensor(data)\n",
      "\u001b[0;31mValueError\u001b[0m: expected sequence of length 100 at dim 0 (got 4105)"
     ]
    }
   ],
   "source": [
    "data = torch.tensor(data)\n"
   ]
  },
  {
   "cell_type": "code",
   "execution_count": null,
   "metadata": {},
   "outputs": [],
   "source": []
  },
  {
   "cell_type": "code",
   "execution_count": 5,
   "metadata": {},
   "outputs": [],
   "source": [
    "from utils.dataLoader import ISMDataset as ism\n",
    "\n",
    "batches = torch.utils.data.DataLoader(ism(data=data), batch_size=5, shuffle=True, num_workers=4)"
   ]
  },
  {
   "cell_type": "code",
   "execution_count": 15,
   "metadata": {},
   "outputs": [
    {
     "data": {
      "text/plain": [
       "20"
      ]
     },
     "execution_count": 15,
     "metadata": {},
     "output_type": "execute_result"
    }
   ],
   "source": [
    "len(batches)"
   ]
  },
  {
   "cell_type": "code",
   "execution_count": 11,
   "metadata": {},
   "outputs": [
    {
     "ename": "TypeError",
     "evalue": "'module' object is not callable",
     "output_type": "error",
     "traceback": [
      "\u001b[0;31m---------------------------------------------------------------------------\u001b[0m",
      "\u001b[0;31mTypeError\u001b[0m                                 Traceback (most recent call last)",
      "Cell \u001b[0;32mIn[11], line 2\u001b[0m\n\u001b[1;32m      1\u001b[0m a,s\u001b[39m=\u001b[39m\u001b[39m0\u001b[39m, \u001b[39m0\u001b[39m\n\u001b[0;32m----> 2\u001b[0m \u001b[39mfor\u001b[39;00m idx,b \u001b[39min\u001b[39;00m \u001b[39menumerate\u001b[39m(tqdm(batches)):\n\u001b[1;32m      4\u001b[0m     \u001b[39mprint\u001b[39m(idx,\u001b[39m\"\u001b[39m\u001b[39mA\u001b[39m\u001b[39m\"\u001b[39m,a,\u001b[39m\"\u001b[39m\u001b[39mS\u001b[39m\u001b[39m\"\u001b[39m, s,\u001b[39m\"\u001b[39m\u001b[39mC\u001b[39m\u001b[39m\"\u001b[39m, c\u001b[39m.\u001b[39msize())\n",
      "\u001b[0;31mTypeError\u001b[0m: 'module' object is not callable"
     ]
    }
   ],
   "source": [
    "a,s=0, 0\n",
    "for idx,b in enumerate(tqdm(batches)):\n",
    "    \n",
    "    print(idx,\"A\",a,\"S\", s,\"C\")"
   ]
  },
  {
   "cell_type": "code",
   "execution_count": 19,
   "metadata": {},
   "outputs": [
    {
     "name": "stderr",
     "output_type": "stream",
     "text": [
      "100%|██████████| 20/20 [00:00<00:00, 51.97batch/s]\n"
     ]
    }
   ],
   "source": [
    "for xc,data in tqdm.tqdm(enumerate(batches, 0), unit=\"batch\", total=len(batches)):\n",
    "    #print(xc)\n",
    "    x=xc"
   ]
  },
  {
   "cell_type": "code",
   "execution_count": 18,
   "metadata": {},
   "outputs": [
    {
     "name": "stderr",
     "output_type": "stream",
     "text": [
      "My Progress Bar:  40%|████      | 8/20 [00:00<00:00, 32.04batch/s]"
     ]
    },
    {
     "name": "stdout",
     "output_type": "stream",
     "text": [
      "0\n",
      "1\n",
      "2\n",
      "3\n",
      "4\n",
      "5\n",
      "6\n",
      "7\n",
      "8\n"
     ]
    },
    {
     "name": "stderr",
     "output_type": "stream",
     "text": [
      "My Progress Bar: 100%|██████████| 20/20 [00:00<00:00, 53.10batch/s]"
     ]
    },
    {
     "name": "stdout",
     "output_type": "stream",
     "text": [
      "9\n",
      "10\n",
      "11\n",
      "12\n",
      "13\n",
      "14\n",
      "15\n",
      "16\n",
      "17\n",
      "18\n",
      "19\n"
     ]
    },
    {
     "name": "stderr",
     "output_type": "stream",
     "text": [
      "\n"
     ]
    }
   ],
   "source": [
    "for batch_index, data in tqdm.tqdm(enumerate(batches), unit='batch',\n",
    "                              total=len(batches),\n",
    "                              desc =\"My Progress Bar\"):\n",
    "    print(batch_index)"
   ]
  },
  {
   "cell_type": "code",
   "execution_count": 31,
   "metadata": {},
   "outputs": [],
   "source": [
    "a = a.cuda()"
   ]
  },
  {
   "cell_type": "code",
   "execution_count": 37,
   "metadata": {},
   "outputs": [
    {
     "data": {
      "text/plain": [
       "torch.Size([2, 5])"
      ]
     },
     "execution_count": 37,
     "metadata": {},
     "output_type": "execute_result"
    }
   ],
   "source": [
    "torch.randn((2,5,1)).reshape(2, -1).size()"
   ]
  },
  {
   "cell_type": "code",
   "execution_count": 33,
   "metadata": {},
   "outputs": [
    {
     "data": {
      "text/plain": [
       "tensor([[9.9000, 7.3000, 4.7000],\n",
       "        [7.3000, 5.3000, 5.7000],\n",
       "        [6.6000, 7.2000, 5.8000],\n",
       "        [6.6000, 7.1000, 5.1000],\n",
       "        [7.9000, 7.2000, 4.6000]], device='cuda:0', dtype=torch.float64)"
      ]
     },
     "execution_count": 33,
     "metadata": {},
     "output_type": "execute_result"
    }
   ],
   "source": [
    "a"
   ]
  },
  {
   "cell_type": "code",
   "execution_count": 11,
   "metadata": {},
   "outputs": [],
   "source": [
    "tuples.append(data[:3])\n",
    "tuples.append(data[3:9])\n",
    "tuples.append(data[9:])"
   ]
  },
  {
   "cell_type": "code",
   "execution_count": 12,
   "metadata": {},
   "outputs": [
    {
     "data": {
      "text/html": [
       "<div>\n",
       "<style scoped>\n",
       "    .dataframe tbody tr th:only-of-type {\n",
       "        vertical-align: middle;\n",
       "    }\n",
       "\n",
       "    .dataframe tbody tr th {\n",
       "        vertical-align: top;\n",
       "    }\n",
       "\n",
       "    .dataframe thead th {\n",
       "        text-align: right;\n",
       "    }\n",
       "</style>\n",
       "<table border=\"1\" class=\"dataframe\">\n",
       "  <thead>\n",
       "    <tr style=\"text-align: right;\">\n",
       "      <th></th>\n",
       "      <th>0</th>\n",
       "      <th>1</th>\n",
       "      <th>2</th>\n",
       "      <th>3</th>\n",
       "      <th>4</th>\n",
       "      <th>5</th>\n",
       "      <th>6</th>\n",
       "      <th>7</th>\n",
       "      <th>8</th>\n",
       "      <th>9</th>\n",
       "      <th>...</th>\n",
       "      <th>4095</th>\n",
       "      <th>4096</th>\n",
       "      <th>4097</th>\n",
       "      <th>4098</th>\n",
       "      <th>4099</th>\n",
       "      <th>4100</th>\n",
       "      <th>4101</th>\n",
       "      <th>4102</th>\n",
       "      <th>4103</th>\n",
       "      <th>4104</th>\n",
       "    </tr>\n",
       "  </thead>\n",
       "  <tbody>\n",
       "    <tr>\n",
       "      <th>0</th>\n",
       "      <td>6.6</td>\n",
       "      <td>7.1</td>\n",
       "      <td>5.1</td>\n",
       "      <td>0.74</td>\n",
       "      <td>0.40</td>\n",
       "      <td>0.06</td>\n",
       "      <td>0.98</td>\n",
       "      <td>0.67</td>\n",
       "      <td>0.94</td>\n",
       "      <td>-0.000003</td>\n",
       "      <td>...</td>\n",
       "      <td>-7.382923e-06</td>\n",
       "      <td>-8.597558e-06</td>\n",
       "      <td>-6.104812e-06</td>\n",
       "      <td>-6.436633e-06</td>\n",
       "      <td>-5.621640e-06</td>\n",
       "      <td>-1.587070e-06</td>\n",
       "      <td>-8.767135e-06</td>\n",
       "      <td>9.240165e-06</td>\n",
       "      <td>1.006314e-05</td>\n",
       "      <td>-6.056572e-06</td>\n",
       "    </tr>\n",
       "    <tr>\n",
       "      <th>1</th>\n",
       "      <td>7.8</td>\n",
       "      <td>6.1</td>\n",
       "      <td>4.0</td>\n",
       "      <td>0.85</td>\n",
       "      <td>0.75</td>\n",
       "      <td>0.45</td>\n",
       "      <td>0.51</td>\n",
       "      <td>0.28</td>\n",
       "      <td>0.72</td>\n",
       "      <td>0.000123</td>\n",
       "      <td>...</td>\n",
       "      <td>-6.295699e-08</td>\n",
       "      <td>-1.326515e-07</td>\n",
       "      <td>-6.025048e-07</td>\n",
       "      <td>-3.875286e-07</td>\n",
       "      <td>-3.076428e-07</td>\n",
       "      <td>-3.986695e-07</td>\n",
       "      <td>-3.510979e-07</td>\n",
       "      <td>-2.832408e-07</td>\n",
       "      <td>-2.644297e-07</td>\n",
       "      <td>-2.569008e-07</td>\n",
       "    </tr>\n",
       "    <tr>\n",
       "      <th>2</th>\n",
       "      <td>7.3</td>\n",
       "      <td>5.3</td>\n",
       "      <td>5.7</td>\n",
       "      <td>0.03</td>\n",
       "      <td>0.56</td>\n",
       "      <td>0.75</td>\n",
       "      <td>0.01</td>\n",
       "      <td>0.87</td>\n",
       "      <td>0.47</td>\n",
       "      <td>-0.000358</td>\n",
       "      <td>...</td>\n",
       "      <td>-4.996883e-10</td>\n",
       "      <td>-9.963400e-10</td>\n",
       "      <td>2.173851e-10</td>\n",
       "      <td>-1.465849e-09</td>\n",
       "      <td>3.027487e-09</td>\n",
       "      <td>1.665801e-08</td>\n",
       "      <td>1.181978e-08</td>\n",
       "      <td>3.101104e-09</td>\n",
       "      <td>-6.473393e-09</td>\n",
       "      <td>1.209245e-08</td>\n",
       "    </tr>\n",
       "  </tbody>\n",
       "</table>\n",
       "<p>3 rows × 4105 columns</p>\n",
       "</div>"
      ],
      "text/plain": [
       "   0     1     2     3     4     5     6     7     8         9     ...  \\\n",
       "0   6.6   7.1   5.1  0.74  0.40  0.06  0.98  0.67  0.94 -0.000003  ...   \n",
       "1   7.8   6.1   4.0  0.85  0.75  0.45  0.51  0.28  0.72  0.000123  ...   \n",
       "2   7.3   5.3   5.7  0.03  0.56  0.75  0.01  0.87  0.47 -0.000358  ...   \n",
       "\n",
       "           4095          4096          4097          4098          4099  \\\n",
       "0 -7.382923e-06 -8.597558e-06 -6.104812e-06 -6.436633e-06 -5.621640e-06   \n",
       "1 -6.295699e-08 -1.326515e-07 -6.025048e-07 -3.875286e-07 -3.076428e-07   \n",
       "2 -4.996883e-10 -9.963400e-10  2.173851e-10 -1.465849e-09  3.027487e-09   \n",
       "\n",
       "           4100          4101          4102          4103          4104  \n",
       "0 -1.587070e-06 -8.767135e-06  9.240165e-06  1.006314e-05 -6.056572e-06  \n",
       "1 -3.986695e-07 -3.510979e-07 -2.832408e-07 -2.644297e-07 -2.569008e-07  \n",
       "2  1.665801e-08  1.181978e-08  3.101104e-09 -6.473393e-09  1.209245e-08  \n",
       "\n",
       "[3 rows x 4105 columns]"
      ]
     },
     "execution_count": 12,
     "metadata": {},
     "output_type": "execute_result"
    }
   ],
   "source": [
    "tuples[0]\n"
   ]
  },
  {
   "cell_type": "code",
   "execution_count": null,
   "metadata": {},
   "outputs": [],
   "source": []
  }
 ],
 "metadata": {
  "kernelspec": {
   "display_name": "mpa",
   "language": "python",
   "name": "python3"
  },
  "language_info": {
   "codemirror_mode": {
    "name": "ipython",
    "version": 3
   },
   "file_extension": ".py",
   "mimetype": "text/x-python",
   "name": "python",
   "nbconvert_exporter": "python",
   "pygments_lexer": "ipython3",
   "version": "3.10.11"
  },
  "orig_nbformat": 4
 },
 "nbformat": 4,
 "nbformat_minor": 2
}
