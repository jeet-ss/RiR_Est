{
 "cells": [
  {
   "cell_type": "code",
   "execution_count": 2,
   "metadata": {},
   "outputs": [],
   "source": [
    "import numpy as np\n",
    "import rir_generator as rir\n",
    "import pandas as pd\n",
    "import torch\n",
    "import torch.nn as nn\n",
    "import tqdm\n",
    "from sklearn.model_selection import train_test_split\n",
    "from sklearn.metrics import mean_absolute_error, mean_squared_error\n",
    "\n",
    "from utils.model import Geometry_estimator, Link_model\n",
    "from utils.dataLoader import ISMDataset"
   ]
  },
  {
   "cell_type": "code",
   "execution_count": 48,
   "metadata": {},
   "outputs": [],
   "source": [
    "class fcModel(nn.Module):\n",
    "    def __init__(self, ):\n",
    "        super().__init__()\n",
    "        self.fc1 = nn.Linear(4096, 2048)\n",
    "        self.fc2 = nn.Linear(2048, 1024)   #1 \n",
    "        self.fc3 = nn.Linear(1024, 512)   #2\n",
    "        self.fc4 = nn.Linear(512, 256)     #3\n",
    "        self.fc5 = nn.Linear(256, 128)    #4\n",
    "        self.fc6 = nn.Linear(128, 64)      #5\n",
    "        self.fc7 = nn.Linear(64, 32)       #6\n",
    "        self.fc7 = nn.Linear(32, 16)       #7\n",
    "        self.fc8 = nn.Linear(16, 8)      #8\n",
    "        self.fc9 = nn.Linear(8, 6)  \n",
    "        self.rel = nn.ReLU() \n",
    "    def forward(self, inp):\n",
    "        # inp is (b,1,4096)\n",
    "        # out is (b,1,6)\n",
    "        inp = self.rel(self.fc1(inp))\n",
    "        inp = self.rel(self.fc2(inp))\n",
    "        inp = self.rel(self.fc3(inp))\n",
    "        inp = self.rel(self.fc4(inp))\n",
    "        inp = self.rel(self.fc5(inp))\n",
    "        inp = self.rel(self.fc6(inp))\n",
    "        inp = self.rel(self.fc7(inp))\n",
    "        inp = self.rel(self.fc8(inp))\n",
    "        inp = self.fc9(inp)\n",
    "        return inp"
   ]
  },
  {
   "cell_type": "code",
   "execution_count": 10,
   "metadata": {},
   "outputs": [],
   "source": [
    "mlp = nn.Sequential(\n",
    "                        nn.Linear(4096, 2048), nn.ReLU(),\n",
    "                        nn.Linear(2048, 1024), nn.ReLU(),   #1 \n",
    "                        nn.Linear(1024, 512), nn.ReLU(),    #2\n",
    "                        nn.Linear(512, 256), nn.ReLU(),     #3\n",
    "                        nn.Linear(256, 128), nn.ReLU(),     #4\n",
    "                        nn.Linear(128, 64), nn.ReLU(),      #5\n",
    "                        nn.Linear(64, 32), nn.ReLU(),       #6\n",
    "                        nn.Linear(32, 16), nn.ReLU(),       #7\n",
    "                        nn.Linear(16, 8), nn.ReLU(),        #8\n",
    "                        nn.Linear(8, 6)                     #9\n",
    "                    ).cuda()"
   ]
  },
  {
   "cell_type": "code",
   "execution_count": 10,
   "metadata": {},
   "outputs": [
    {
     "data": {
      "text/plain": [
       "torch.Size([2, 1, 2])"
      ]
     },
     "execution_count": 10,
     "metadata": {},
     "output_type": "execute_result"
    }
   ],
   "source": [
    "torch.randn((2,1,2)).size()"
   ]
  },
  {
   "cell_type": "code",
   "execution_count": 12,
   "metadata": {},
   "outputs": [
    {
     "data": {
      "text/plain": [
       "tensor([[ 0.2924,  0.0398, -0.3574, -0.2492,  0.0020, -0.1014],\n",
       "        [ 0.2924,  0.0398, -0.3573, -0.2492,  0.0020, -0.1013],\n",
       "        [ 0.2926,  0.0399, -0.3572, -0.2492,  0.0021, -0.1012],\n",
       "        [ 0.2925,  0.0399, -0.3572, -0.2492,  0.0021, -0.1012],\n",
       "        [ 0.2926,  0.0400, -0.3572, -0.2492,  0.0022, -0.1013]],\n",
       "       device='cuda:0', grad_fn=<AddmmBackward0>)"
      ]
     },
     "execution_count": 12,
     "metadata": {},
     "output_type": "execute_result"
    }
   ],
   "source": [
    "mlp(torch.randn(5,4096).cuda())"
   ]
  },
  {
   "cell_type": "code",
   "execution_count": 2,
   "metadata": {},
   "outputs": [],
   "source": [
    "import numpy as np\n",
    "\n",
    "name_variant = 'fake'\n",
    "epochs_st = 20\n",
    "epochs_end = 45\n",
    "loss_data = np.linspace(0,1,10)\n",
    "np.save(f'{name_variant}_{epochs_st}_{epochs_end}_data.npy', loss_data)"
   ]
  },
  {
   "cell_type": "code",
   "execution_count": 14,
   "metadata": {},
   "outputs": [
    {
     "data": {
      "text/plain": [
       "tensor([[ 0.2927,  0.0400, -0.3572, -0.2493,  0.0023, -0.1012],\n",
       "        [ 0.2925,  0.0398, -0.3575, -0.2492,  0.0020, -0.1014],\n",
       "        [ 0.2926,  0.0400, -0.3571, -0.2492,  0.0022, -0.1012],\n",
       "        [ 0.2926,  0.0399, -0.3573, -0.2492,  0.0021, -0.1013],\n",
       "        [ 0.2926,  0.0400, -0.3570, -0.2492,  0.0022, -0.1012]],\n",
       "       device='cuda:0', grad_fn=<AddmmBackward0>)"
      ]
     },
     "execution_count": 14,
     "metadata": {},
     "output_type": "execute_result"
    }
   ],
   "source": [
    "xs = mlp \n",
    "xs(torch.randn(5,4096).cuda())"
   ]
  },
  {
   "cell_type": "code",
   "execution_count": 7,
   "metadata": {},
   "outputs": [
    {
     "ename": "RuntimeError",
     "evalue": "The following operation failed in the TorchScript interpreter.\nTraceback of TorchScript (most recent call last):\n  File \"/home/jeet/anaconda3/envs/mpa/lib/python3.10/site-packages/torch/nn/modules/container.py\", line 217, in forward\n    def forward(self, input):\n        for module in self:\n            input = module(input)\n                    ~~~~~~ <--- HERE\n        return input\n  File \"/home/jeet/anaconda3/envs/mpa/lib/python3.10/site-packages/torch/nn/modules/linear.py\", line 114, in forward\n    def forward(self, input: Tensor) -> Tensor:\n        return F.linear(input, self.weight, self.bias)\n               ~~~~~~~~ <--- HERE\nRuntimeError: mat1 and mat2 shapes cannot be multiplied (5x6 and 4096x2048)\n",
     "output_type": "error",
     "traceback": [
      "\u001b[0;31m---------------------------------------------------------------------------\u001b[0m",
      "\u001b[0;31mRuntimeError\u001b[0m                              Traceback (most recent call last)",
      "Cell \u001b[0;32mIn[7], line 3\u001b[0m\n\u001b[1;32m      1\u001b[0m mm \u001b[39m=\u001b[39m torch\u001b[39m.\u001b[39mjit\u001b[39m.\u001b[39mscript(mlp)\n\u001b[1;32m      2\u001b[0m \u001b[39m#mo = mm.type(torch.cuda.FloatTensor)\u001b[39;00m\n\u001b[0;32m----> 3\u001b[0m mm( torch\u001b[39m.\u001b[39;49mrandn(\u001b[39m5\u001b[39;49m, \u001b[39m6\u001b[39;49m))\n",
      "File \u001b[0;32m~/anaconda3/envs/mpa/lib/python3.10/site-packages/torch/nn/modules/module.py:1501\u001b[0m, in \u001b[0;36mModule._call_impl\u001b[0;34m(self, *args, **kwargs)\u001b[0m\n\u001b[1;32m   1496\u001b[0m \u001b[39m# If we don't have any hooks, we want to skip the rest of the logic in\u001b[39;00m\n\u001b[1;32m   1497\u001b[0m \u001b[39m# this function, and just call forward.\u001b[39;00m\n\u001b[1;32m   1498\u001b[0m \u001b[39mif\u001b[39;00m \u001b[39mnot\u001b[39;00m (\u001b[39mself\u001b[39m\u001b[39m.\u001b[39m_backward_hooks \u001b[39mor\u001b[39;00m \u001b[39mself\u001b[39m\u001b[39m.\u001b[39m_backward_pre_hooks \u001b[39mor\u001b[39;00m \u001b[39mself\u001b[39m\u001b[39m.\u001b[39m_forward_hooks \u001b[39mor\u001b[39;00m \u001b[39mself\u001b[39m\u001b[39m.\u001b[39m_forward_pre_hooks\n\u001b[1;32m   1499\u001b[0m         \u001b[39mor\u001b[39;00m _global_backward_pre_hooks \u001b[39mor\u001b[39;00m _global_backward_hooks\n\u001b[1;32m   1500\u001b[0m         \u001b[39mor\u001b[39;00m _global_forward_hooks \u001b[39mor\u001b[39;00m _global_forward_pre_hooks):\n\u001b[0;32m-> 1501\u001b[0m     \u001b[39mreturn\u001b[39;00m forward_call(\u001b[39m*\u001b[39;49margs, \u001b[39m*\u001b[39;49m\u001b[39m*\u001b[39;49mkwargs)\n\u001b[1;32m   1502\u001b[0m \u001b[39m# Do not call functions when jit is used\u001b[39;00m\n\u001b[1;32m   1503\u001b[0m full_backward_hooks, non_full_backward_hooks \u001b[39m=\u001b[39m [], []\n",
      "\u001b[0;31mRuntimeError\u001b[0m: The following operation failed in the TorchScript interpreter.\nTraceback of TorchScript (most recent call last):\n  File \"/home/jeet/anaconda3/envs/mpa/lib/python3.10/site-packages/torch/nn/modules/container.py\", line 217, in forward\n    def forward(self, input):\n        for module in self:\n            input = module(input)\n                    ~~~~~~ <--- HERE\n        return input\n  File \"/home/jeet/anaconda3/envs/mpa/lib/python3.10/site-packages/torch/nn/modules/linear.py\", line 114, in forward\n    def forward(self, input: Tensor) -> Tensor:\n        return F.linear(input, self.weight, self.bias)\n               ~~~~~~~~ <--- HERE\nRuntimeError: mat1 and mat2 shapes cannot be multiplied (5x6 and 4096x2048)\n"
     ]
    }
   ],
   "source": [
    "mm = torch.jit.script(mlp)\n",
    "#mo = mm.type(torch.cuda.FloatTensor)\n",
    "mm( torch.randn(5, 6))"
   ]
  },
  {
   "cell_type": "code",
   "execution_count": 24,
   "metadata": {},
   "outputs": [],
   "source": [
    "x = np.load('./rirData/ism_400k.npy')\n"
   ]
  },
  {
   "cell_type": "code",
   "execution_count": 25,
   "metadata": {},
   "outputs": [
    {
     "data": {
      "text/plain": [
       "(400000, 4105)"
      ]
     },
     "execution_count": 25,
     "metadata": {},
     "output_type": "execute_result"
    }
   ],
   "source": [
    "x.shape"
   ]
  },
  {
   "cell_type": "code",
   "execution_count": 26,
   "metadata": {},
   "outputs": [],
   "source": [
    "data = pd.DataFrame(x)"
   ]
  },
  {
   "cell_type": "code",
   "execution_count": 27,
   "metadata": {},
   "outputs": [
    {
     "data": {
      "text/plain": [
       "(280000, 360000)"
      ]
     },
     "execution_count": 27,
     "metadata": {},
     "output_type": "execute_result"
    }
   ],
   "source": [
    "train_head = data.index[int(0.7*len(data))]\n",
    "val_head = data.index[int(0.9*len(data))]\n",
    "train_head, val_head"
   ]
  },
  {
   "cell_type": "code",
   "execution_count": 28,
   "metadata": {},
   "outputs": [
    {
     "name": "stdout",
     "output_type": "stream",
     "text": [
      "trainData:(280000, 4105), valData:(80000, 4105), testData-(40000, 4105)\n"
     ]
    }
   ],
   "source": [
    "train_d = data.loc[:train_head-1, :]\n",
    "val_d = data.loc[train_head:val_head-1, :]\n",
    "test_d = data.loc[val_head:, :]\n",
    "print(f'trainData:{train_d.shape}, valData:{val_d.shape}, testData-{test_d.shape}')"
   ]
  },
  {
   "cell_type": "code",
   "execution_count": 29,
   "metadata": {},
   "outputs": [
    {
     "name": "stdout",
     "output_type": "stream",
     "text": [
      "batches: train-5600, val-1600, test-800\n"
     ]
    }
   ],
   "source": [
    "batch_size = 50\n",
    "train_batches = torch.utils.data.DataLoader(ISMDataset(data=train_d), batch_size=batch_size,  num_workers=4)\n",
    "val_batches = torch.utils.data.DataLoader(ISMDataset(data=val_d), batch_size=batch_size,  num_workers=4)\n",
    "test_batches = torch.utils.data.DataLoader(ISMDataset(data=test_d), batch_size=batch_size,  num_workers=4)\n",
    "print(f\"batches: train-{len(train_batches)}, val-{len(val_batches)}, test-{len(test_batches)}\")"
   ]
  },
  {
   "cell_type": "code",
   "execution_count": null,
   "metadata": {},
   "outputs": [],
   "source": [
    "de"
   ]
  },
  {
   "cell_type": "code",
   "execution_count": 84,
   "metadata": {},
   "outputs": [
    {
     "name": "stdout",
     "output_type": "stream",
     "text": [
      "GGeo_checkpoints/checkpoint_022.ckp\n"
     ]
    }
   ],
   "source": [
    "epoch = 22\n",
    "name = 'GGeo'\n",
    "print( '{}_checkpoints/checkpoint_{:03d}.ckp'.format(name,epoch))"
   ]
  },
  {
   "cell_type": "code",
   "execution_count": 29,
   "metadata": {},
   "outputs": [],
   "source": [
    "np.random.seed(1)"
   ]
  },
  {
   "cell_type": "code",
   "execution_count": 6,
   "metadata": {},
   "outputs": [
    {
     "data": {
      "text/plain": [
       "tensor([[0.9951, 0.3938, 0.7739],\n",
       "        [0.8201, 2.1408, 1.3790],\n",
       "        [1.5899, 0.5538, 0.9235]])"
      ]
     },
     "execution_count": 6,
     "metadata": {},
     "output_type": "execute_result"
    }
   ],
   "source": [
    "torch.var(torch.randn((10,3,3)), dim=0)"
   ]
  },
  {
   "cell_type": "code",
   "execution_count": 5,
   "metadata": {},
   "outputs": [
    {
     "data": {
      "text/plain": [
       "array([0.89574414, 1.2751881 , 0.8364169 , 1.3237574 , 1.215802  ,\n",
       "       1.1126249 ], dtype=float32)"
      ]
     },
     "execution_count": 5,
     "metadata": {},
     "output_type": "execute_result"
    }
   ],
   "source": [
    "torch.manual_seed(1)\n",
    "\n",
    "s,d=torch.randn((10,6)), torch.randn((10,6)), \n",
    "mean_absolute_error(s,d, multioutput='raw_values')"
   ]
  },
  {
   "cell_type": "code",
   "execution_count": 7,
   "metadata": {},
   "outputs": [
    {
     "data": {
      "text/plain": [
       "tensor([0.8957, 1.2752, 0.8364, 1.3238, 1.2158, 1.1126])"
      ]
     },
     "execution_count": 7,
     "metadata": {},
     "output_type": "execute_result"
    }
   ],
   "source": [
    "torch.mean(torch.abs(s-d), axis=0)"
   ]
  },
  {
   "cell_type": "code",
   "execution_count": 8,
   "metadata": {},
   "outputs": [
    {
     "data": {
      "text/plain": [
       "array([1.0732129, 2.1878397, 0.9767858, 2.4214172, 1.7687699, 1.5943434],\n",
       "      dtype=float32)"
      ]
     },
     "execution_count": 8,
     "metadata": {},
     "output_type": "execute_result"
    }
   ],
   "source": [
    "mean_squared_error(s, d, multioutput='raw_values')"
   ]
  },
  {
   "cell_type": "code",
   "execution_count": 10,
   "metadata": {},
   "outputs": [
    {
     "data": {
      "text/plain": [
       "tensor([1.0360, 1.4791, 0.9883, 1.5561, 1.3300, 1.2627])"
      ]
     },
     "execution_count": 10,
     "metadata": {},
     "output_type": "execute_result"
    }
   ],
   "source": [
    "torch.sqrt(torch.mean(torch.square(s-d), axis=0))"
   ]
  },
  {
   "cell_type": "code",
   "execution_count": 167,
   "metadata": {},
   "outputs": [
    {
     "data": {
      "text/plain": [
       "array([[2, 8, 1, 7, 6, 0],\n",
       "       [7, 5, 6, 4, 2, 6],\n",
       "       [3, 1, 2, 2, 6, 2]])"
      ]
     },
     "execution_count": 167,
     "metadata": {},
     "output_type": "execute_result"
    }
   ],
   "source": [
    "np.abs(s-d)"
   ]
  },
  {
   "cell_type": "code",
   "execution_count": 176,
   "metadata": {},
   "outputs": [
    {
     "data": {
      "text/plain": [
       "array([[3.9, 2.1, 3.8],\n",
       "       [4.5, 1.7, 2.8],\n",
       "       [1.5, 3.6, 2.3]])"
      ]
     },
     "execution_count": 176,
     "metadata": {},
     "output_type": "execute_result"
    }
   ],
   "source": [
    "np.mean(np.abs(s-d), axis=0)"
   ]
  },
  {
   "cell_type": "code",
   "execution_count": null,
   "metadata": {},
   "outputs": [],
   "source": []
  },
  {
   "cell_type": "code",
   "execution_count": 149,
   "metadata": {},
   "outputs": [
    {
     "data": {
      "text/plain": [
       "array([[6, 9, 6, 1, 1, 2],\n",
       "       [8, 7, 3, 5, 6, 3],\n",
       "       [5, 3, 5, 8, 8, 2],\n",
       "       [8, 1, 7, 8, 7, 2],\n",
       "       [1, 2, 9, 9, 4, 9],\n",
       "       [8, 4, 7, 6, 2, 4],\n",
       "       [5, 9, 2, 5, 1, 4],\n",
       "       [3, 1, 5, 3, 8, 8],\n",
       "       [9, 7, 4, 8, 8, 5],\n",
       "       [6, 4, 7, 9, 1, 3]])"
      ]
     },
     "execution_count": 149,
     "metadata": {},
     "output_type": "execute_result"
    }
   ],
   "source": [
    "s"
   ]
  },
  {
   "cell_type": "code",
   "execution_count": 150,
   "metadata": {},
   "outputs": [
    {
     "data": {
      "text/plain": [
       "5.6899999999999995"
      ]
     },
     "execution_count": 150,
     "metadata": {},
     "output_type": "execute_result"
    }
   ],
   "source": [
    "np.var([6,8,5,8,1,8,5,3,9,6])"
   ]
  },
  {
   "cell_type": "code",
   "execution_count": 148,
   "metadata": {},
   "outputs": [
    {
     "data": {
      "text/plain": [
       "array([5.69, 8.61, 4.05, 6.56, 8.84, 5.56])"
      ]
     },
     "execution_count": 148,
     "metadata": {},
     "output_type": "execute_result"
    }
   ],
   "source": [
    "np.var(s, axis=0)"
   ]
  },
  {
   "cell_type": "code",
   "execution_count": null,
   "metadata": {},
   "outputs": [],
   "source": [
    "ss, dd = np.random.randint(1,10,(10,3,3)), np.random.randint(1,10,(10,3,3))"
   ]
  },
  {
   "cell_type": "code",
   "execution_count": 137,
   "metadata": {},
   "outputs": [
    {
     "data": {
      "text/plain": [
       "array([4.20713679, 4.07430976, 3.36154726, 4.35889894, 2.46981781,\n",
       "       3.49284984])"
      ]
     },
     "execution_count": 137,
     "metadata": {},
     "output_type": "execute_result"
    }
   ],
   "source": [
    "np.sqrt(np.mean((np.square(s-d)), axis=0))"
   ]
  },
  {
   "cell_type": "code",
   "execution_count": 181,
   "metadata": {},
   "outputs": [
    {
     "data": {
      "text/plain": [
       "tensor(2.0854)"
      ]
     },
     "execution_count": 181,
     "metadata": {},
     "output_type": "execute_result"
    }
   ],
   "source": [
    "a,b = torch.randn(size=(10,6)), torch.randn(size=(10,6))\n",
    "ll(a,b)"
   ]
  },
  {
   "cell_type": "code",
   "execution_count": 180,
   "metadata": {},
   "outputs": [
    {
     "data": {
      "text/plain": [
       "tensor(0.9820)"
      ]
     },
     "execution_count": 180,
     "metadata": {},
     "output_type": "execute_result"
    }
   ],
   "source": [
    "torch.mean(torch.abs(a-b), axis=0).mean()"
   ]
  },
  {
   "cell_type": "code",
   "execution_count": 90,
   "metadata": {},
   "outputs": [
    {
     "data": {
      "text/plain": [
       "torch.Size([5, 3])"
      ]
     },
     "execution_count": 90,
     "metadata": {},
     "output_type": "execute_result"
    }
   ],
   "source": [
    "torch.randn(size=(5,3,3))[:, 1, :].size()"
   ]
  },
  {
   "cell_type": "code",
   "execution_count": 119,
   "metadata": {},
   "outputs": [
    {
     "data": {
      "text/plain": [
       "tensor(2.0054)"
      ]
     },
     "execution_count": 119,
     "metadata": {},
     "output_type": "execute_result"
    }
   ],
   "source": [
    "torch.manual_seed(0)\n",
    "ll=torch.nn.MSELoss()\n",
    "#ll(torch.randn(size=(10,3,3)), torch.randn(size=(10,3,3)), )\n",
    "a,b = torch.randn(size=(10,3,3)), torch.randn(size=(10,3,3))\n",
    "ll(a,b)"
   ]
  },
  {
   "cell_type": "code",
   "execution_count": 132,
   "metadata": {},
   "outputs": [
    {
     "data": {
      "text/plain": [
       "tensor([[1.1886, 1.4367, 1.1775],\n",
       "        [1.4666, 1.5326, 1.9430],\n",
       "        [1.8702, 0.6733, 0.9794]])"
      ]
     },
     "execution_count": 132,
     "metadata": {},
     "output_type": "execute_result"
    }
   ],
   "source": [
    "np.sqrt(((a-b)**2).mean(axis=0))"
   ]
  },
  {
   "cell_type": "code",
   "execution_count": 66,
   "metadata": {},
   "outputs": [
    {
     "data": {
      "text/plain": [
       "tensor([[ 1.0113, -0.0732,  0.0119, -1.4309, -1.1297,  0.3026],\n",
       "        [ 0.3153, -2.2901,  1.3890, -2.3477,  0.3029,  0.7142],\n",
       "        [-0.4341, -0.2742, -1.4934, -0.4970, -0.2888,  1.7183],\n",
       "        [-1.7579, -0.1910, -0.9612,  1.4745, -1.5443,  0.3256],\n",
       "        [ 3.0793, -0.5077,  0.8296, -0.6592,  0.8686, -0.3669],\n",
       "        [ 0.3278, -1.3919, -1.6926,  0.1608,  0.9647, -0.7180],\n",
       "        [-0.3258,  0.3614,  0.8608,  0.5456,  0.9697, -1.5581],\n",
       "        [-0.7141,  0.9808, -0.0914, -0.0342, -0.4348,  1.0807],\n",
       "        [-0.2383,  0.3174, -0.0461, -1.9251, -0.1943, -2.6019],\n",
       "        [ 0.1466, -0.2510, -0.0317,  2.2110, -0.2807, -0.5661]])"
      ]
     },
     "execution_count": 66,
     "metadata": {},
     "output_type": "execute_result"
    }
   ],
   "source": [
    "torch.randn(size=(10,6))"
   ]
  },
  {
   "cell_type": "code",
   "execution_count": 11,
   "metadata": {},
   "outputs": [
    {
     "data": {
      "text/plain": [
       "array([[2, 6, 2],\n",
       "       [7, 7, 8],\n",
       "       [4, 1, 9],\n",
       "       [8, 6, 9],\n",
       "       [1, 7, 6]])"
      ]
     },
     "execution_count": 11,
     "metadata": {},
     "output_type": "execute_result"
    }
   ],
   "source": [
    "asr = np.random.randint(1,10,(5,3))\n",
    "asr"
   ]
  },
  {
   "cell_type": "code",
   "execution_count": 19,
   "metadata": {},
   "outputs": [],
   "source": [
    "akk=None"
   ]
  },
  {
   "cell_type": "code",
   "execution_count": 20,
   "metadata": {},
   "outputs": [
    {
     "ename": "TypeError",
     "evalue": "unsupported operand type(s) for +: 'NoneType' and 'str'",
     "output_type": "error",
     "traceback": [
      "\u001b[0;31m---------------------------------------------------------------------------\u001b[0m",
      "\u001b[0;31mTypeError\u001b[0m                                 Traceback (most recent call last)",
      "Cell \u001b[0;32mIn[20], line 1\u001b[0m\n\u001b[0;32m----> 1\u001b[0m np\u001b[39m.\u001b[39msave(akk\u001b[39m+\u001b[39;49m\u001b[39m'\u001b[39;49m\u001b[39msha.npy\u001b[39;49m\u001b[39m'\u001b[39;49m, asr)\n",
      "\u001b[0;31mTypeError\u001b[0m: unsupported operand type(s) for +: 'NoneType' and 'str'"
     ]
    }
   ],
   "source": [
    "np.save(akk+'sha.npy', asr)"
   ]
  },
  {
   "cell_type": "code",
   "execution_count": 18,
   "metadata": {},
   "outputs": [
    {
     "data": {
      "text/plain": [
       "array([[2, 6, 2],\n",
       "       [7, 7, 8],\n",
       "       [4, 1, 9],\n",
       "       [8, 6, 9],\n",
       "       [1, 7, 6]])"
      ]
     },
     "execution_count": 18,
     "metadata": {},
     "output_type": "execute_result"
    }
   ],
   "source": [
    "np.load('ggsa.npy')"
   ]
  },
  {
   "cell_type": "code",
   "execution_count": 6,
   "metadata": {},
   "outputs": [
    {
     "name": "stderr",
     "output_type": "stream",
     "text": [
      "100%|██████████| 13/13 [00:00<00:00, 145402.54it/s]"
     ]
    },
    {
     "name": "stdout",
     "output_type": "stream",
     "text": [
      "20\n",
      "21\n",
      "22\n",
      "23\n",
      "24\n",
      "25\n",
      "26\n",
      "27\n",
      "28\n",
      "29\n",
      "30\n",
      "31\n",
      "32\n"
     ]
    },
    {
     "name": "stderr",
     "output_type": "stream",
     "text": [
      "\n"
     ]
    },
    {
     "data": {
      "text/plain": [
       "[None, None, None, None, None, None, None, None, None, None, None, None, None]"
      ]
     },
     "execution_count": 6,
     "metadata": {},
     "output_type": "execute_result"
    }
   ],
   "source": [
    "[print(i) for i in tqdm.trange(20,33)]"
   ]
  },
  {
   "cell_type": "code",
   "execution_count": 10,
   "metadata": {},
   "outputs": [
    {
     "ename": "SyntaxError",
     "evalue": "f-string expression part cannot include a backslash (2445864702.py, line 2)",
     "output_type": "error",
     "traceback": [
      "\u001b[0;36m  Cell \u001b[0;32mIn[10], line 2\u001b[0;36m\u001b[0m\n\u001b[0;31m    print(f\"dsd{\\n}{es}\")\u001b[0m\n\u001b[0m                        ^\u001b[0m\n\u001b[0;31mSyntaxError\u001b[0m\u001b[0;31m:\u001b[0m f-string expression part cannot include a backslash\n"
     ]
    }
   ],
   "source": [
    "es = '122'\n",
    "print(f\"dsd{es}\")"
   ]
  },
  {
   "cell_type": "code",
   "execution_count": 26,
   "metadata": {},
   "outputs": [],
   "source": [
    "ll= np.load('3_lossData.npy', allow_pickle=True).item()"
   ]
  },
  {
   "cell_type": "code",
   "execution_count": 27,
   "metadata": {},
   "outputs": [
    {
     "data": {
      "text/plain": [
       "{'tran_loss': array([6.9104128 , 1.72165208, 1.12056489]),\n",
       " 'test_loss': 0.38774973154067993,\n",
       " 'val_loss': array([7.92183709, 4.12310684, 0.78889355]),\n",
       " 'min_loss': 1.1205648879210155,\n",
       " 'Scores': {'Bias': tensor([[1.4915, 0.7079, 0.4573],\n",
       "          [0.7411, 0.3098, 0.2950],\n",
       "          [1.0243, 0.2743, 0.4294]]),\n",
       "  'Var': tensor([[4.3387e-03, 7.3949e-05, 6.7337e-04],\n",
       "          [2.0843e-03, 1.2376e-05, 8.3162e-05],\n",
       "          [8.3426e-04, 1.0224e-04, 1.9757e-04]]),\n",
       "  'Rmse': tensor([[1.8034, 0.7615, 0.5461],\n",
       "          [0.8942, 0.3718, 0.3472],\n",
       "          [1.1949, 0.3457, 0.4933]])}}"
      ]
     },
     "execution_count": 27,
     "metadata": {},
     "output_type": "execute_result"
    }
   ],
   "source": [
    "ll"
   ]
  },
  {
   "cell_type": "code",
   "execution_count": 20,
   "metadata": {},
   "outputs": [
    {
     "data": {
      "text/plain": [
       "tensor([0.3140, 0.2974, 0.4043, 0.3220, 0.8763, 0.4406])"
      ]
     },
     "execution_count": 20,
     "metadata": {},
     "output_type": "execute_result"
    }
   ],
   "source": [
    "ll['Scores']['Bias']"
   ]
  },
  {
   "cell_type": "code",
   "execution_count": 2,
   "metadata": {},
   "outputs": [],
   "source": [
    "def printer(c):\n",
    "    print(\"in c: \", c)\n",
    "    return 2*c"
   ]
  },
  {
   "cell_type": "code",
   "execution_count": 4,
   "metadata": {},
   "outputs": [],
   "source": [
    "xy = printer"
   ]
  },
  {
   "cell_type": "code",
   "execution_count": 6,
   "metadata": {},
   "outputs": [
    {
     "name": "stdout",
     "output_type": "stream",
     "text": [
      "in c:  55\n"
     ]
    }
   ],
   "source": [
    "p=xy(55)"
   ]
  },
  {
   "cell_type": "code",
   "execution_count": 19,
   "metadata": {},
   "outputs": [],
   "source": [
    "arr = torch.randint(1, 10, size=(4, 1, 6))\n",
    "arr2 = torch.randint(1, 10, size=(4, 3))"
   ]
  },
  {
   "cell_type": "code",
   "execution_count": 3,
   "metadata": {},
   "outputs": [
    {
     "data": {
      "text/plain": [
       "tensor([[1, 2, 3],\n",
       "        [4, 5, 6],\n",
       "        [7, 8, 9]])"
      ]
     },
     "execution_count": 3,
     "metadata": {},
     "output_type": "execute_result"
    }
   ],
   "source": [
    "torch.arange(start=1, end=10, step=1).reshape((3,3))"
   ]
  },
  {
   "cell_type": "code",
   "execution_count": 20,
   "metadata": {},
   "outputs": [
    {
     "name": "stdout",
     "output_type": "stream",
     "text": [
      "torch.Size([15]) torch.Size([6, 5])\n"
     ]
    }
   ],
   "source": [
    "geo = torch.randint(1, 20, size=(15,))\n",
    "rcoef = torch.randn((6,5))\n",
    "print(geo.size(), rcoef.size())"
   ]
  },
  {
   "cell_type": "code",
   "execution_count": 26,
   "metadata": {},
   "outputs": [
    {
     "data": {
      "text/plain": [
       "(torch.Size([5, 3, 1]), torch.Size([5, 3, 2]))"
      ]
     },
     "execution_count": 26,
     "metadata": {},
     "output_type": "execute_result"
    }
   ],
   "source": [
    "geo.reshape(5,3).unsqueeze(axis=2).size(), rcoef.reshape(5,3,2).size()"
   ]
  },
  {
   "cell_type": "code",
   "execution_count": 32,
   "metadata": {},
   "outputs": [
    {
     "data": {
      "text/plain": [
       "tensor([[[13.],\n",
       "         [ 3.],\n",
       "         [ 4.]],\n",
       "\n",
       "        [[11.],\n",
       "         [10.],\n",
       "         [ 1.]],\n",
       "\n",
       "        [[ 8.],\n",
       "         [19.],\n",
       "         [16.]],\n",
       "\n",
       "        [[ 2.],\n",
       "         [ 6.],\n",
       "         [11.]],\n",
       "\n",
       "        [[11.],\n",
       "         [11.],\n",
       "         [ 6.]]])"
      ]
     },
     "execution_count": 32,
     "metadata": {},
     "output_type": "execute_result"
    }
   ],
   "source": [
    "z = torch.empty(0)\n",
    "torch.cat((z,geo.reshape(5,3,1)))"
   ]
  },
  {
   "cell_type": "code",
   "execution_count": 33,
   "metadata": {},
   "outputs": [
    {
     "data": {
      "text/plain": [
       "tensor([[[ 1.3000e+01,  5.8685e-01, -2.6242e+00],\n",
       "         [ 3.0000e+00,  1.1047e+00,  1.6436e-01],\n",
       "         [ 4.0000e+00,  3.2146e-01,  4.9451e-03]],\n",
       "\n",
       "        [[ 1.1000e+01, -6.5468e-01, -2.4775e-01],\n",
       "         [ 1.0000e+01,  2.2140e-01,  3.7288e-01],\n",
       "         [ 1.0000e+00, -1.1572e+00,  7.6960e-01]],\n",
       "\n",
       "        [[ 8.0000e+00,  1.3235e+00,  2.0768e-01],\n",
       "         [ 1.9000e+01,  5.0488e-01,  1.6955e+00],\n",
       "         [ 1.6000e+01,  1.3042e+00,  9.7482e-01]],\n",
       "\n",
       "        [[ 2.0000e+00,  4.2528e-01, -2.5267e-01],\n",
       "         [ 6.0000e+00, -1.7478e+00,  5.4494e-01],\n",
       "         [ 1.1000e+01,  1.5269e-01, -1.6250e+00]],\n",
       "\n",
       "        [[ 1.1000e+01, -1.1076e+00, -3.2975e-01],\n",
       "         [ 1.1000e+01, -5.5248e-01, -1.0446e+00],\n",
       "         [ 6.0000e+00, -7.2621e-01,  5.6999e-01]]])"
      ]
     },
     "execution_count": 33,
     "metadata": {},
     "output_type": "execute_result"
    }
   ],
   "source": [
    "torch.cat((geo.reshape(5,3,1), rcoef.reshape(5,3,2)), dim=2)"
   ]
  },
  {
   "cell_type": "code",
   "execution_count": 36,
   "metadata": {},
   "outputs": [
    {
     "data": {
      "text/plain": [
       "array([[ 0.00000000e+00],\n",
       "       [ 0.00000000e+00],\n",
       "       [ 0.00000000e+00],\n",
       "       ...,\n",
       "       [-1.01968700e-07],\n",
       "       [ 8.04393176e-10],\n",
       "       [-6.33972618e-08]])"
      ]
     },
     "execution_count": 36,
     "metadata": {},
     "output_type": "execute_result"
    }
   ],
   "source": [
    "h = rir.generate(\n",
    "    c=340,                                      # Sound velocity (m/s)\n",
    "    fs=8000,                                    # Sample frequency (samples/s)\n",
    "    r=np.sort([4.20, 2.50, 2.40]),               # Receiver position(s) [x y z] (m)\n",
    "    s=np.sort([2.40, 1.30, 1.40]),                 # Source position [x y z] (m)\n",
    "    L=[8.30, 5.00, 4.80],                        # Room dimensions [x y z] (m)\n",
    "    nsample=4096,                               # Number of output samples\n",
    "    beta=np.sort([0.24, 1.00, 0.66, 0.78, 0.38, 0.48])                    # Room reflection coefficients [x1 x2 y1 y2 z1 z2]\n",
    ")\n",
    "h"
   ]
  },
  {
   "cell_type": "code",
   "execution_count": 108,
   "metadata": {},
   "outputs": [
    {
     "data": {
      "text/plain": [
       "False"
      ]
     },
     "execution_count": 108,
     "metadata": {},
     "output_type": "execute_result"
    }
   ],
   "source": [
    "np.isnan(h).any() == True"
   ]
  },
  {
   "cell_type": "code",
   "execution_count": 22,
   "metadata": {},
   "outputs": [
    {
     "name": "stdout",
     "output_type": "stream",
     "text": [
      "ISM data:  (4105, 1)\n"
     ]
    }
   ],
   "source": [
    "room_geo  = np.array([np.random.randint(low=60, high=100)/10, np.random.randint(low=50, high=80)/10, np.random.randint(low=40, high=60)/10])\n",
    "# random room coeffs\n",
    "room_coeff = np.random.uniform(size=(6))\n",
    "# random source and receiver position\n",
    "source_position = [np.random.randint(low=(len*10)/2-10, high=(len*10)/2+10)/10 for len in room_geo]\n",
    "receiver_position = [np.random.randint(low=(len*10)/2-10, high=(len*10)/2+10)/10 for len in room_geo]\n",
    "#\n",
    "#print(\"Room geometry: \", room_geo, \" receiver position: \", receiver_position, \"source position: \", source_position, \"room coeff: \", room_coeff)\n",
    "# generate ISM data\n",
    "h = rir.generate(\n",
    "    c=340,                                      # Sound velocity (m/s)\n",
    "    fs=8000,                                    # Sample frequency (samples/s)\n",
    "    r=np.sort(receiver_position),               # Receiver position(s) [x y z] (m)\n",
    "    s=np.sort(source_position),                 # Source position [x y z] (m)\n",
    "    L=np.sort(room_geo),                        # Room dimensions [x y z] (m)\n",
    "    nsample=4096,                               # Number of output samples\n",
    "    beta=np.sort(room_coeff)                    # Room reflection coefficients [x1 x2 y1 y2 z1 z2]\n",
    ")\n",
    "\n",
    "# concat the geometry and reflection coefficients\n",
    "h = np.concatenate((h.squeeze(), np.concatenate((room_geo, room_coeff))))\n",
    "h = np.expand_dims(h, axis=1)\n",
    "# save ISM data\n",
    "print(\"ISM data: \", h.shape)"
   ]
  },
  {
   "cell_type": "code",
   "execution_count": 54,
   "metadata": {},
   "outputs": [
    {
     "data": {
      "text/plain": [
       "array([0.94823008, 0.55364852, 0.25966412, 0.98941496, 0.08847435,\n",
       "       0.53749568])"
      ]
     },
     "execution_count": 54,
     "metadata": {},
     "output_type": "execute_result"
    }
   ],
   "source": [
    "np.random.uniform(size=(6))"
   ]
  },
  {
   "cell_type": "code",
   "execution_count": 51,
   "metadata": {},
   "outputs": [
    {
     "data": {
      "text/plain": [
       "array(True)"
      ]
     },
     "execution_count": 51,
     "metadata": {},
     "output_type": "execute_result"
    }
   ],
   "source": [
    "np.isin(1.000, np.array([1, 2,3,4]))"
   ]
  },
  {
   "cell_type": "code",
   "execution_count": 58,
   "metadata": {},
   "outputs": [
    {
     "data": {
      "text/plain": [
       "1.0"
      ]
     },
     "execution_count": 58,
     "metadata": {},
     "output_type": "execute_result"
    }
   ],
   "source": [
    "round(0.99578914, 2)"
   ]
  },
  {
   "cell_type": "code",
   "execution_count": 7,
   "metadata": {},
   "outputs": [],
   "source": [
    "rer=\"123\""
   ]
  },
  {
   "cell_type": "code",
   "execution_count": 8,
   "metadata": {},
   "outputs": [
    {
     "name": "stdout",
     "output_type": "stream",
     "text": [
      "lind123\n"
     ]
    }
   ],
   "source": [
    "print(f\"lind{rer}\")"
   ]
  },
  {
   "cell_type": "code",
   "execution_count": 61,
   "metadata": {},
   "outputs": [
    {
     "data": {
      "text/plain": [
       "'1.00'"
      ]
     },
     "execution_count": 61,
     "metadata": {},
     "output_type": "execute_result"
    }
   ],
   "source": [
    "'%.2f'%(0.99578914)"
   ]
  },
  {
   "cell_type": "code",
   "execution_count": 250,
   "metadata": {},
   "outputs": [
    {
     "name": "stdout",
     "output_type": "stream",
     "text": [
      "pie 4\n"
     ]
    },
    {
     "name": "stderr",
     "output_type": "stream",
     "text": [
      "100%|██████████| 10000/10000 [00:00<00:00, 36120.24it/s]"
     ]
    },
    {
     "name": "stdout",
     "output_type": "stream",
     "text": [
      "9114  receiver position:  [4.9, 3.7, 2.9] source position:  [4.9, 3.7, 2.9]\n",
      "count:  1 10000\n"
     ]
    },
    {
     "name": "stderr",
     "output_type": "stream",
     "text": [
      "\n"
     ]
    }
   ],
   "source": [
    "np.random.seed(14)\n",
    "print(\"pie\", np.random.randint(low=1,high = 9))\n",
    "count = 0\n",
    "count2 = 0\n",
    "for i in tqdm.trange(10000):\n",
    "    room_geo  = [np.random.randint(low=60, high=100)/10, np.random.randint(low=50, high=80)/10, np.random.randint(low=40, high=60)/10]\n",
    "  \n",
    "    source_position = [np.random.randint(low=(len*10)/2-20, high=(len*10)/2+20)/10 for len in room_geo]\n",
    "    receiver_position = []\n",
    "    while True:\n",
    "        receiver_position = [np.random.randint(low=(len*10)/2-20, high=(len*10)/2+20)/10 for len in room_geo]\n",
    "        if (np.sort(source_position) == np.sort(receiver_position)).all():\n",
    "            count += 1\n",
    "            print(i, \" receiver position: \", receiver_position, \"source position: \", source_position)\n",
    "            continue\n",
    "        else:\n",
    "            count2 += 1\n",
    "            break\n",
    "\n",
    "        #receiver_position = [np.random.randint(low=(len*10)/2-20, high=(len*10)/2+20)/10 for len in room_geo]\n",
    "    #print(i,\"Room geometry: \", room_geo, \" receiver position: \", receiver_position, \"source position: \", source_position, \"room coeff: \", room_coeff)\n",
    "print(\"count: \",count, count2)"
   ]
  },
  {
   "cell_type": "code",
   "execution_count": 2,
   "metadata": {},
   "outputs": [],
   "source": [
    "s = np.array([2.8, 3.3, 1.9])   # org\n",
    "r = np.array([1.9, 2.8, 3.3])   # same but scattered  \n",
    "q = np.array([1.7, 2.8, 3.2])   # 1 ele same\n",
    "t = np.array([1.7, 2.8, 3.3])   # 2 ele same"
   ]
  },
  {
   "cell_type": "code",
   "execution_count": 199,
   "metadata": {},
   "outputs": [
    {
     "data": {
      "text/plain": [
       "array([False,  True,  True])"
      ]
     },
     "execution_count": 199,
     "metadata": {},
     "output_type": "execute_result"
    }
   ],
   "source": [
    "(np.sort(s) == np.sort(t))"
   ]
  },
  {
   "cell_type": "code",
   "execution_count": 200,
   "metadata": {},
   "outputs": [
    {
     "data": {
      "text/plain": [
       "False"
      ]
     },
     "execution_count": 200,
     "metadata": {},
     "output_type": "execute_result"
    }
   ],
   "source": [
    "(np.sort(s) == np.sort(t)).all()"
   ]
  },
  {
   "cell_type": "code",
   "execution_count": 201,
   "metadata": {},
   "outputs": [
    {
     "ename": "TypeError",
     "evalue": "only integer scalar arrays can be converted to a scalar index",
     "output_type": "error",
     "traceback": [
      "\u001b[0;31m---------------------------------------------------------------------------\u001b[0m",
      "\u001b[0;31mTypeError\u001b[0m                                 Traceback (most recent call last)",
      "Cell \u001b[0;32mIn[201], line 1\u001b[0m\n\u001b[0;32m----> 1\u001b[0m np\u001b[39m.\u001b[39;49mall(np\u001b[39m.\u001b[39;49msort(s), np\u001b[39m.\u001b[39;49msort(t))\n",
      "File \u001b[0;32m<__array_function__ internals>:180\u001b[0m, in \u001b[0;36mall\u001b[0;34m(*args, **kwargs)\u001b[0m\n",
      "File \u001b[0;32m~/anaconda3/envs/mpa/lib/python3.10/site-packages/numpy/core/fromnumeric.py:2489\u001b[0m, in \u001b[0;36mall\u001b[0;34m(a, axis, out, keepdims, where)\u001b[0m\n\u001b[1;32m   2406\u001b[0m \u001b[39m@array_function_dispatch\u001b[39m(_all_dispatcher)\n\u001b[1;32m   2407\u001b[0m \u001b[39mdef\u001b[39;00m \u001b[39mall\u001b[39m(a, axis\u001b[39m=\u001b[39m\u001b[39mNone\u001b[39;00m, out\u001b[39m=\u001b[39m\u001b[39mNone\u001b[39;00m, keepdims\u001b[39m=\u001b[39mnp\u001b[39m.\u001b[39m_NoValue, \u001b[39m*\u001b[39m, where\u001b[39m=\u001b[39mnp\u001b[39m.\u001b[39m_NoValue):\n\u001b[1;32m   2408\u001b[0m \u001b[39m    \u001b[39m\u001b[39m\"\"\"\u001b[39;00m\n\u001b[1;32m   2409\u001b[0m \u001b[39m    Test whether all array elements along a given axis evaluate to True.\u001b[39;00m\n\u001b[1;32m   2410\u001b[0m \n\u001b[0;32m   (...)\u001b[0m\n\u001b[1;32m   2487\u001b[0m \n\u001b[1;32m   2488\u001b[0m \u001b[39m    \"\"\"\u001b[39;00m\n\u001b[0;32m-> 2489\u001b[0m     \u001b[39mreturn\u001b[39;00m _wrapreduction(a, np\u001b[39m.\u001b[39;49mlogical_and, \u001b[39m'\u001b[39;49m\u001b[39mall\u001b[39;49m\u001b[39m'\u001b[39;49m, axis, \u001b[39mNone\u001b[39;49;00m, out,\n\u001b[1;32m   2490\u001b[0m                           keepdims\u001b[39m=\u001b[39;49mkeepdims, where\u001b[39m=\u001b[39;49mwhere)\n",
      "File \u001b[0;32m~/anaconda3/envs/mpa/lib/python3.10/site-packages/numpy/core/fromnumeric.py:86\u001b[0m, in \u001b[0;36m_wrapreduction\u001b[0;34m(obj, ufunc, method, axis, dtype, out, **kwargs)\u001b[0m\n\u001b[1;32m     83\u001b[0m         \u001b[39melse\u001b[39;00m:\n\u001b[1;32m     84\u001b[0m             \u001b[39mreturn\u001b[39;00m reduction(axis\u001b[39m=\u001b[39maxis, out\u001b[39m=\u001b[39mout, \u001b[39m*\u001b[39m\u001b[39m*\u001b[39mpasskwargs)\n\u001b[0;32m---> 86\u001b[0m \u001b[39mreturn\u001b[39;00m ufunc\u001b[39m.\u001b[39;49mreduce(obj, axis, dtype, out, \u001b[39m*\u001b[39;49m\u001b[39m*\u001b[39;49mpasskwargs)\n",
      "\u001b[0;31mTypeError\u001b[0m: only integer scalar arrays can be converted to a scalar index"
     ]
    }
   ],
   "source": [
    "np.all(np.sort(s), np.sort(t))"
   ]
  },
  {
   "cell_type": "code",
   "execution_count": 126,
   "metadata": {},
   "outputs": [
    {
     "name": "stdout",
     "output_type": "stream",
     "text": [
      "[0.5488135  0.71518937 0.60276338 0.54488318 0.4236548  0.64589411]\n"
     ]
    }
   ],
   "source": [
    "np.random.seed(0)\n",
    "print(np.random.uniform(size=(6)))"
   ]
  },
  {
   "cell_type": "code",
   "execution_count": 110,
   "metadata": {},
   "outputs": [
    {
     "name": "stderr",
     "output_type": "stream",
     "text": [
      "100%|██████████| 10000/10000 [00:00<00:00, 40526.67it/s]\n"
     ]
    }
   ],
   "source": [
    "for i in tqdm.trange(10000):\n",
    "    x = np.random.uniform(size=(6)).round(2)\n",
    "    x[x==1.0] = 0.99\n",
    "    y = x.copy()\n",
    "    y[y==1.0] = 0.99\n",
    "    if np.isin(1.0, x):\n",
    "        print(i, x, y)"
   ]
  },
  {
   "cell_type": "code",
   "execution_count": 3,
   "metadata": {},
   "outputs": [
    {
     "data": {
      "text/plain": [
       "RecursiveScriptModule(\n",
       "  original_name=Geometry_estimator\n",
       "  (convLayers): RecursiveScriptModule(\n",
       "    original_name=Sequential\n",
       "    (0): RecursiveScriptModule(\n",
       "      original_name=Conv_block\n",
       "      (seq): RecursiveScriptModule(\n",
       "        original_name=Sequential\n",
       "        (0): RecursiveScriptModule(original_name=Conv1d)\n",
       "        (1): RecursiveScriptModule(original_name=BatchNorm1d)\n",
       "        (2): RecursiveScriptModule(original_name=ReLU)\n",
       "      )\n",
       "    )\n",
       "    (1): RecursiveScriptModule(\n",
       "      original_name=Conv_block\n",
       "      (seq): RecursiveScriptModule(\n",
       "        original_name=Sequential\n",
       "        (0): RecursiveScriptModule(original_name=Conv1d)\n",
       "        (1): RecursiveScriptModule(original_name=BatchNorm1d)\n",
       "        (2): RecursiveScriptModule(original_name=ReLU)\n",
       "      )\n",
       "    )\n",
       "    (2): RecursiveScriptModule(\n",
       "      original_name=Conv_block\n",
       "      (seq): RecursiveScriptModule(\n",
       "        original_name=Sequential\n",
       "        (0): RecursiveScriptModule(original_name=Conv1d)\n",
       "        (1): RecursiveScriptModule(original_name=BatchNorm1d)\n",
       "        (2): RecursiveScriptModule(original_name=ReLU)\n",
       "      )\n",
       "    )\n",
       "    (3): RecursiveScriptModule(\n",
       "      original_name=Conv_block\n",
       "      (seq): RecursiveScriptModule(\n",
       "        original_name=Sequential\n",
       "        (0): RecursiveScriptModule(original_name=Conv1d)\n",
       "        (1): RecursiveScriptModule(original_name=BatchNorm1d)\n",
       "        (2): RecursiveScriptModule(original_name=ReLU)\n",
       "      )\n",
       "    )\n",
       "    (4): RecursiveScriptModule(\n",
       "      original_name=Conv_block\n",
       "      (seq): RecursiveScriptModule(\n",
       "        original_name=Sequential\n",
       "        (0): RecursiveScriptModule(original_name=Conv1d)\n",
       "        (1): RecursiveScriptModule(original_name=BatchNorm1d)\n",
       "        (2): RecursiveScriptModule(original_name=ReLU)\n",
       "      )\n",
       "    )\n",
       "    (5): RecursiveScriptModule(\n",
       "      original_name=Conv_block\n",
       "      (seq): RecursiveScriptModule(\n",
       "        original_name=Sequential\n",
       "        (0): RecursiveScriptModule(original_name=Conv1d)\n",
       "        (1): RecursiveScriptModule(original_name=BatchNorm1d)\n",
       "        (2): RecursiveScriptModule(original_name=ReLU)\n",
       "      )\n",
       "    )\n",
       "    (6): RecursiveScriptModule(\n",
       "      original_name=Conv_block\n",
       "      (seq): RecursiveScriptModule(\n",
       "        original_name=Sequential\n",
       "        (0): RecursiveScriptModule(original_name=Conv1d)\n",
       "        (1): RecursiveScriptModule(original_name=BatchNorm1d)\n",
       "        (2): RecursiveScriptModule(original_name=ReLU)\n",
       "      )\n",
       "    )\n",
       "    (7): RecursiveScriptModule(\n",
       "      original_name=Conv_block\n",
       "      (seq): RecursiveScriptModule(\n",
       "        original_name=Sequential\n",
       "        (0): RecursiveScriptModule(original_name=Conv1d)\n",
       "        (1): RecursiveScriptModule(original_name=BatchNorm1d)\n",
       "        (2): RecursiveScriptModule(original_name=ReLU)\n",
       "      )\n",
       "    )\n",
       "  )\n",
       "  (fcLayers): RecursiveScriptModule(\n",
       "    original_name=Sequential\n",
       "    (0): RecursiveScriptModule(original_name=Linear)\n",
       "    (1): RecursiveScriptModule(original_name=Linear)\n",
       "    (2): RecursiveScriptModule(original_name=Linear)\n",
       "  )\n",
       ")"
      ]
     },
     "execution_count": 3,
     "metadata": {},
     "output_type": "execute_result"
    }
   ],
   "source": [
    "torch.jit.script(Geometry_estimator())"
   ]
  },
  {
   "cell_type": "code",
   "execution_count": 2,
   "metadata": {},
   "outputs": [
    {
     "data": {
      "text/plain": [
       "OptimizedModule(\n",
       "  (_orig_mod): Geometry_estimator(\n",
       "    (convLayers): Sequential(\n",
       "      (0): Conv_block(\n",
       "        (seq): Sequential(\n",
       "          (0): Conv1d(1, 32, kernel_size=(4,), stride=(4,), bias=False)\n",
       "          (1): BatchNorm1d(32, eps=1e-05, momentum=0.1, affine=True, track_running_stats=True)\n",
       "          (2): ReLU()\n",
       "        )\n",
       "      )\n",
       "      (1): Conv_block(\n",
       "        (seq): Sequential(\n",
       "          (0): Conv1d(32, 32, kernel_size=(2,), stride=(2,), bias=False)\n",
       "          (1): BatchNorm1d(32, eps=1e-05, momentum=0.1, affine=True, track_running_stats=True)\n",
       "          (2): ReLU()\n",
       "        )\n",
       "      )\n",
       "      (2): Conv_block(\n",
       "        (seq): Sequential(\n",
       "          (0): Conv1d(32, 128, kernel_size=(8,), stride=(8,), bias=False)\n",
       "          (1): BatchNorm1d(128, eps=1e-05, momentum=0.1, affine=True, track_running_stats=True)\n",
       "          (2): ReLU()\n",
       "        )\n",
       "      )\n",
       "      (3): Conv_block(\n",
       "        (seq): Sequential(\n",
       "          (0): Conv1d(128, 128, kernel_size=(2,), stride=(2,), bias=False)\n",
       "          (1): BatchNorm1d(128, eps=1e-05, momentum=0.1, affine=True, track_running_stats=True)\n",
       "          (2): ReLU()\n",
       "        )\n",
       "      )\n",
       "      (4): Conv_block(\n",
       "        (seq): Sequential(\n",
       "          (0): Conv1d(128, 512, kernel_size=(2,), stride=(2,), bias=False)\n",
       "          (1): BatchNorm1d(512, eps=1e-05, momentum=0.1, affine=True, track_running_stats=True)\n",
       "          (2): ReLU()\n",
       "        )\n",
       "      )\n",
       "      (5): Conv_block(\n",
       "        (seq): Sequential(\n",
       "          (0): Conv1d(512, 512, kernel_size=(4,), stride=(4,), bias=False)\n",
       "          (1): BatchNorm1d(512, eps=1e-05, momentum=0.1, affine=True, track_running_stats=True)\n",
       "          (2): ReLU()\n",
       "        )\n",
       "      )\n",
       "      (6): Conv_block(\n",
       "        (seq): Sequential(\n",
       "          (0): Conv1d(512, 1024, kernel_size=(4,), stride=(4,), bias=False)\n",
       "          (1): BatchNorm1d(1024, eps=1e-05, momentum=0.1, affine=True, track_running_stats=True)\n",
       "          (2): ReLU()\n",
       "        )\n",
       "      )\n",
       "      (7): Conv_block(\n",
       "        (seq): Sequential(\n",
       "          (0): Conv1d(1024, 1024, kernel_size=(1,), stride=(1,), bias=False)\n",
       "          (1): BatchNorm1d(1024, eps=1e-05, momentum=0.1, affine=True, track_running_stats=True)\n",
       "          (2): ReLU()\n",
       "        )\n",
       "      )\n",
       "    )\n",
       "    (fcLayers): Sequential(\n",
       "      (0): Linear(in_features=1024, out_features=160, bias=True)\n",
       "      (1): Linear(in_features=160, out_features=64, bias=True)\n",
       "      (2): Linear(in_features=64, out_features=3, bias=True)\n",
       "    )\n",
       "  )\n",
       ")"
      ]
     },
     "execution_count": 2,
     "metadata": {},
     "output_type": "execute_result"
    }
   ],
   "source": [
    "gg = torch.compile(Geometry_estimator())\n",
    "gg"
   ]
  },
  {
   "cell_type": "code",
   "execution_count": 12,
   "metadata": {},
   "outputs": [
    {
     "data": {
      "text/plain": [
       "array([7.3, 5.1, 5.1])"
      ]
     },
     "execution_count": 12,
     "metadata": {},
     "output_type": "execute_result"
    }
   ],
   "source": [
    "room_geo"
   ]
  },
  {
   "cell_type": "code",
   "execution_count": 65,
   "metadata": {},
   "outputs": [],
   "source": [
    "dd = np.load(\"./rirData/ism_10k.npy\")"
   ]
  },
  {
   "cell_type": "code",
   "execution_count": 66,
   "metadata": {},
   "outputs": [],
   "source": [
    "data = pd.DataFrame(dd)\n",
    "#tuples = []\n",
    "#data.iloc[1][:9]"
   ]
  },
  {
   "cell_type": "code",
   "execution_count": 31,
   "metadata": {},
   "outputs": [
    {
     "data": {
      "text/plain": [
       "(2, 4105)"
      ]
     },
     "execution_count": 31,
     "metadata": {},
     "output_type": "execute_result"
    }
   ],
   "source": [
    "data.shape"
   ]
  },
  {
   "cell_type": "code",
   "execution_count": 61,
   "metadata": {},
   "outputs": [
    {
     "data": {
      "text/plain": [
       "(28000, 12000)"
      ]
     },
     "execution_count": 61,
     "metadata": {},
     "output_type": "execute_result"
    }
   ],
   "source": [
    "xx, zz = train_test_split(dd, train_size=0.7, random_state=1)\n",
    "len(xx), len(zz)"
   ]
  },
  {
   "cell_type": "code",
   "execution_count": 64,
   "metadata": {},
   "outputs": [
    {
     "data": {
      "text/plain": [
       "800.0"
      ]
     },
     "execution_count": 64,
     "metadata": {},
     "output_type": "execute_result"
    }
   ],
   "source": [
    "40000/50"
   ]
  },
  {
   "cell_type": "code",
   "execution_count": 62,
   "metadata": {},
   "outputs": [
    {
     "data": {
      "text/plain": [
       "(8000, 4000)"
      ]
     },
     "execution_count": 62,
     "metadata": {},
     "output_type": "execute_result"
    }
   ],
   "source": [
    "yy,az = train_test_split(zz, test_size=0.333333, random_state=1) \n",
    "len(yy), len(az)"
   ]
  },
  {
   "cell_type": "code",
   "execution_count": 46,
   "metadata": {},
   "outputs": [],
   "source": [
    "x,y,z=torch.utils.data.random_split(data, (280, 80, 40), torch.Generator().manual_seed(42))"
   ]
  },
  {
   "cell_type": "code",
   "execution_count": 50,
   "metadata": {},
   "outputs": [
    {
     "data": {
      "text/plain": [
       "0     -0.000169\n",
       "1      0.001994\n",
       "2     -0.000006\n",
       "3     -0.000049\n",
       "4     -0.000208\n",
       "         ...   \n",
       "395    0.000474\n",
       "396    0.006176\n",
       "397    0.000136\n",
       "398   -0.000053\n",
       "399    0.000793\n",
       "Name: 318, Length: 400, dtype: float64"
      ]
     },
     "execution_count": 50,
     "metadata": {},
     "output_type": "execute_result"
    }
   ],
   "source": [
    "x[1]"
   ]
  },
  {
   "cell_type": "code",
   "execution_count": 34,
   "metadata": {},
   "outputs": [
    {
     "data": {
      "text/plain": [
       "0    8.30\n",
       "1    5.00\n",
       "2    4.80\n",
       "3    0.24\n",
       "4    1.00\n",
       "5    0.66\n",
       "6    0.78\n",
       "7    0.38\n",
       "8    0.48\n",
       "Name: 0, dtype: float64"
      ]
     },
     "execution_count": 34,
     "metadata": {},
     "output_type": "execute_result"
    }
   ],
   "source": [
    "data.iloc[0][:9]"
   ]
  },
  {
   "cell_type": "code",
   "execution_count": 11,
   "metadata": {},
   "outputs": [
    {
     "ename": "ValueError",
     "evalue": "expected sequence of length 100 at dim 0 (got 4105)",
     "output_type": "error",
     "traceback": [
      "\u001b[0;31m---------------------------------------------------------------------------\u001b[0m",
      "\u001b[0;31mValueError\u001b[0m                                Traceback (most recent call last)",
      "Cell \u001b[0;32mIn[11], line 1\u001b[0m\n\u001b[0;32m----> 1\u001b[0m data \u001b[39m=\u001b[39m torch\u001b[39m.\u001b[39;49mtensor(data)\n",
      "\u001b[0;31mValueError\u001b[0m: expected sequence of length 100 at dim 0 (got 4105)"
     ]
    }
   ],
   "source": [
    "data = torch.tensor(data)\n"
   ]
  },
  {
   "cell_type": "code",
   "execution_count": 43,
   "metadata": {},
   "outputs": [],
   "source": [
    "from utils.dataLoader import ISMDataset as ism\n",
    "\n",
    "batches = torch.utils.data.DataLoader(ism(data=y), batch_size=5, shuffle=True, num_workers=4)"
   ]
  },
  {
   "cell_type": "code",
   "execution_count": null,
   "metadata": {},
   "outputs": [],
   "source": []
  },
  {
   "cell_type": "code",
   "execution_count": 44,
   "metadata": {},
   "outputs": [
    {
     "data": {
      "text/plain": [
       "16"
      ]
     },
     "execution_count": 44,
     "metadata": {},
     "output_type": "execute_result"
    }
   ],
   "source": [
    "len(batches)"
   ]
  },
  {
   "cell_type": "code",
   "execution_count": 60,
   "metadata": {},
   "outputs": [
    {
     "name": "stdout",
     "output_type": "stream",
     "text": [
      "0 A torch.Size([5, 3]) S torch.Size([5, 6]) C torch.Size([5, 4096])\n",
      "1 A torch.Size([5, 3]) S torch.Size([5, 6]) C torch.Size([5, 4096])\n",
      "2 A torch.Size([5, 3]) S torch.Size([5, 6]) C torch.Size([5, 4096])\n",
      "3 A torch.Size([5, 3]) S torch.Size([5, 6]) C torch.Size([5, 4096])\n"
     ]
    }
   ],
   "source": [
    "a,s=0, 0\n",
    "for idx,b in enumerate(batches):\n",
    "    a,s,c = b\n",
    "    print(idx,\"A\",a.size(),\"S\", s.size(),\"C\", c.size())"
   ]
  },
  {
   "cell_type": "code",
   "execution_count": 19,
   "metadata": {},
   "outputs": [
    {
     "name": "stderr",
     "output_type": "stream",
     "text": [
      "100%|██████████| 20/20 [00:00<00:00, 51.97batch/s]\n"
     ]
    }
   ],
   "source": [
    "for xc,data in tqdm.tqdm(enumerate(batches, 0), unit=\"batch\", total=len(batches)):\n",
    "    #print(xc)\n",
    "    x=xc"
   ]
  },
  {
   "cell_type": "code",
   "execution_count": 18,
   "metadata": {},
   "outputs": [
    {
     "name": "stderr",
     "output_type": "stream",
     "text": [
      "My Progress Bar:  40%|████      | 8/20 [00:00<00:00, 32.04batch/s]"
     ]
    },
    {
     "name": "stdout",
     "output_type": "stream",
     "text": [
      "0\n",
      "1\n",
      "2\n",
      "3\n",
      "4\n",
      "5\n",
      "6\n",
      "7\n",
      "8\n"
     ]
    },
    {
     "name": "stderr",
     "output_type": "stream",
     "text": [
      "My Progress Bar: 100%|██████████| 20/20 [00:00<00:00, 53.10batch/s]"
     ]
    },
    {
     "name": "stdout",
     "output_type": "stream",
     "text": [
      "9\n",
      "10\n",
      "11\n",
      "12\n",
      "13\n",
      "14\n",
      "15\n",
      "16\n",
      "17\n",
      "18\n",
      "19\n"
     ]
    },
    {
     "name": "stderr",
     "output_type": "stream",
     "text": [
      "\n"
     ]
    }
   ],
   "source": [
    "for batch_index, data in tqdm.tqdm(enumerate(batches), unit='batch',\n",
    "                              total=len(batches),\n",
    "                              desc =\"My Progress Bar\"):\n",
    "    print(batch_index)"
   ]
  },
  {
   "cell_type": "code",
   "execution_count": 31,
   "metadata": {},
   "outputs": [],
   "source": [
    "a = a.cuda()"
   ]
  },
  {
   "cell_type": "code",
   "execution_count": 37,
   "metadata": {},
   "outputs": [
    {
     "data": {
      "text/plain": [
       "torch.Size([2, 5])"
      ]
     },
     "execution_count": 37,
     "metadata": {},
     "output_type": "execute_result"
    }
   ],
   "source": [
    "torch.randn((2,5,1)).reshape(2, -1).size()"
   ]
  },
  {
   "cell_type": "code",
   "execution_count": 33,
   "metadata": {},
   "outputs": [
    {
     "data": {
      "text/plain": [
       "tensor([[9.9000, 7.3000, 4.7000],\n",
       "        [7.3000, 5.3000, 5.7000],\n",
       "        [6.6000, 7.2000, 5.8000],\n",
       "        [6.6000, 7.1000, 5.1000],\n",
       "        [7.9000, 7.2000, 4.6000]], device='cuda:0', dtype=torch.float64)"
      ]
     },
     "execution_count": 33,
     "metadata": {},
     "output_type": "execute_result"
    }
   ],
   "source": [
    "a"
   ]
  },
  {
   "cell_type": "code",
   "execution_count": 11,
   "metadata": {},
   "outputs": [],
   "source": [
    "tuples.append(data[:3])\n",
    "tuples.append(data[3:9])\n",
    "tuples.append(data[9:])"
   ]
  },
  {
   "cell_type": "code",
   "execution_count": 12,
   "metadata": {},
   "outputs": [
    {
     "data": {
      "text/html": [
       "<div>\n",
       "<style scoped>\n",
       "    .dataframe tbody tr th:only-of-type {\n",
       "        vertical-align: middle;\n",
       "    }\n",
       "\n",
       "    .dataframe tbody tr th {\n",
       "        vertical-align: top;\n",
       "    }\n",
       "\n",
       "    .dataframe thead th {\n",
       "        text-align: right;\n",
       "    }\n",
       "</style>\n",
       "<table border=\"1\" class=\"dataframe\">\n",
       "  <thead>\n",
       "    <tr style=\"text-align: right;\">\n",
       "      <th></th>\n",
       "      <th>0</th>\n",
       "      <th>1</th>\n",
       "      <th>2</th>\n",
       "      <th>3</th>\n",
       "      <th>4</th>\n",
       "      <th>5</th>\n",
       "      <th>6</th>\n",
       "      <th>7</th>\n",
       "      <th>8</th>\n",
       "      <th>9</th>\n",
       "      <th>...</th>\n",
       "      <th>4095</th>\n",
       "      <th>4096</th>\n",
       "      <th>4097</th>\n",
       "      <th>4098</th>\n",
       "      <th>4099</th>\n",
       "      <th>4100</th>\n",
       "      <th>4101</th>\n",
       "      <th>4102</th>\n",
       "      <th>4103</th>\n",
       "      <th>4104</th>\n",
       "    </tr>\n",
       "  </thead>\n",
       "  <tbody>\n",
       "    <tr>\n",
       "      <th>0</th>\n",
       "      <td>6.6</td>\n",
       "      <td>7.1</td>\n",
       "      <td>5.1</td>\n",
       "      <td>0.74</td>\n",
       "      <td>0.40</td>\n",
       "      <td>0.06</td>\n",
       "      <td>0.98</td>\n",
       "      <td>0.67</td>\n",
       "      <td>0.94</td>\n",
       "      <td>-0.000003</td>\n",
       "      <td>...</td>\n",
       "      <td>-7.382923e-06</td>\n",
       "      <td>-8.597558e-06</td>\n",
       "      <td>-6.104812e-06</td>\n",
       "      <td>-6.436633e-06</td>\n",
       "      <td>-5.621640e-06</td>\n",
       "      <td>-1.587070e-06</td>\n",
       "      <td>-8.767135e-06</td>\n",
       "      <td>9.240165e-06</td>\n",
       "      <td>1.006314e-05</td>\n",
       "      <td>-6.056572e-06</td>\n",
       "    </tr>\n",
       "    <tr>\n",
       "      <th>1</th>\n",
       "      <td>7.8</td>\n",
       "      <td>6.1</td>\n",
       "      <td>4.0</td>\n",
       "      <td>0.85</td>\n",
       "      <td>0.75</td>\n",
       "      <td>0.45</td>\n",
       "      <td>0.51</td>\n",
       "      <td>0.28</td>\n",
       "      <td>0.72</td>\n",
       "      <td>0.000123</td>\n",
       "      <td>...</td>\n",
       "      <td>-6.295699e-08</td>\n",
       "      <td>-1.326515e-07</td>\n",
       "      <td>-6.025048e-07</td>\n",
       "      <td>-3.875286e-07</td>\n",
       "      <td>-3.076428e-07</td>\n",
       "      <td>-3.986695e-07</td>\n",
       "      <td>-3.510979e-07</td>\n",
       "      <td>-2.832408e-07</td>\n",
       "      <td>-2.644297e-07</td>\n",
       "      <td>-2.569008e-07</td>\n",
       "    </tr>\n",
       "    <tr>\n",
       "      <th>2</th>\n",
       "      <td>7.3</td>\n",
       "      <td>5.3</td>\n",
       "      <td>5.7</td>\n",
       "      <td>0.03</td>\n",
       "      <td>0.56</td>\n",
       "      <td>0.75</td>\n",
       "      <td>0.01</td>\n",
       "      <td>0.87</td>\n",
       "      <td>0.47</td>\n",
       "      <td>-0.000358</td>\n",
       "      <td>...</td>\n",
       "      <td>-4.996883e-10</td>\n",
       "      <td>-9.963400e-10</td>\n",
       "      <td>2.173851e-10</td>\n",
       "      <td>-1.465849e-09</td>\n",
       "      <td>3.027487e-09</td>\n",
       "      <td>1.665801e-08</td>\n",
       "      <td>1.181978e-08</td>\n",
       "      <td>3.101104e-09</td>\n",
       "      <td>-6.473393e-09</td>\n",
       "      <td>1.209245e-08</td>\n",
       "    </tr>\n",
       "  </tbody>\n",
       "</table>\n",
       "<p>3 rows × 4105 columns</p>\n",
       "</div>"
      ],
      "text/plain": [
       "   0     1     2     3     4     5     6     7     8         9     ...  \\\n",
       "0   6.6   7.1   5.1  0.74  0.40  0.06  0.98  0.67  0.94 -0.000003  ...   \n",
       "1   7.8   6.1   4.0  0.85  0.75  0.45  0.51  0.28  0.72  0.000123  ...   \n",
       "2   7.3   5.3   5.7  0.03  0.56  0.75  0.01  0.87  0.47 -0.000358  ...   \n",
       "\n",
       "           4095          4096          4097          4098          4099  \\\n",
       "0 -7.382923e-06 -8.597558e-06 -6.104812e-06 -6.436633e-06 -5.621640e-06   \n",
       "1 -6.295699e-08 -1.326515e-07 -6.025048e-07 -3.875286e-07 -3.076428e-07   \n",
       "2 -4.996883e-10 -9.963400e-10  2.173851e-10 -1.465849e-09  3.027487e-09   \n",
       "\n",
       "           4100          4101          4102          4103          4104  \n",
       "0 -1.587070e-06 -8.767135e-06  9.240165e-06  1.006314e-05 -6.056572e-06  \n",
       "1 -3.986695e-07 -3.510979e-07 -2.832408e-07 -2.644297e-07 -2.569008e-07  \n",
       "2  1.665801e-08  1.181978e-08  3.101104e-09 -6.473393e-09  1.209245e-08  \n",
       "\n",
       "[3 rows x 4105 columns]"
      ]
     },
     "execution_count": 12,
     "metadata": {},
     "output_type": "execute_result"
    }
   ],
   "source": [
    "tuples[0]\n"
   ]
  },
  {
   "cell_type": "code",
   "execution_count": null,
   "metadata": {},
   "outputs": [],
   "source": []
  }
 ],
 "metadata": {
  "kernelspec": {
   "display_name": "mpa",
   "language": "python",
   "name": "python3"
  },
  "language_info": {
   "codemirror_mode": {
    "name": "ipython",
    "version": 3
   },
   "file_extension": ".py",
   "mimetype": "text/x-python",
   "name": "python",
   "nbconvert_exporter": "python",
   "pygments_lexer": "ipython3",
   "version": "3.10.11"
  },
  "orig_nbformat": 4
 },
 "nbformat": 4,
 "nbformat_minor": 2
}
